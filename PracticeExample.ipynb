{
 "cells": [
  {
   "cell_type": "markdown",
   "metadata": {},
   "source": [
    "# CEE 201: Linear Programming with Jupyter Notebooks"
   ]
  },
  {
   "cell_type": "markdown",
   "metadata": {},
   "source": [
    "## Practice Problem"
   ]
  },
  {
   "cell_type": "code",
   "execution_count": 1,
   "metadata": {},
   "outputs": [],
   "source": [
    "# Import python packages numpy, matplotlib, and pulp\n",
    "import numpy as np\n",
    "import matplotlib.pyplot as plt\n",
    "import pandas as pd\n",
    "%matplotlib inline\n",
    "import pulp"
   ]
  },
  {
   "cell_type": "markdown",
   "metadata": {},
   "source": [
    "## Model Formulation\n",
    "### Decision Variables\n",
    "$x_1$ and $x_2$"
   ]
  },
  {
   "cell_type": "markdown",
   "metadata": {},
   "source": [
    "### Objective Function & Constraints\n",
    "#### Maximizing Objective Function\n",
    "$max Z=12x_1+18x_2$"
   ]
  },
  {
   "cell_type": "markdown",
   "metadata": {},
   "source": [
    "#### Subject to \n",
    "\n",
    "$6x_1+5x_2\\leq 60$ \\\n",
    "$x_1+5x_2\\leq 15$ \\\n",
    "$x_1\\leq 9$ \\\n",
    "$x_2\\leq 4$ \\\n",
    "$x_1 \\geq 0$ \\\n",
    "$x_2 \\geq 0$ \n"
   ]
  },
  {
   "cell_type": "markdown",
   "metadata": {},
   "source": [
    "### Problem Solution\n",
    "#### Solver Solution\n",
    "We define the class of the problem:"
   ]
  },
  {
   "cell_type": "code",
   "execution_count": 2,
   "metadata": {},
   "outputs": [],
   "source": [
    "my_lp_problem = pulp.LpProblem(\"My LP Problem\", pulp.LpMaximize)"
   ]
  },
  {
   "cell_type": "markdown",
   "metadata": {},
   "source": [
    "We set the upper bounds of $x_1$ and $x_2$:"
   ]
  },
  {
   "cell_type": "code",
   "execution_count": 3,
   "metadata": {},
   "outputs": [],
   "source": [
    "x1 = pulp.LpVariable('$x_1$',upBound=9, cat='Continuous')\n",
    "x2 = pulp.LpVariable('$x_2$',upBound=4, cat='Continuous')"
   ]
  },
  {
   "cell_type": "markdown",
   "metadata": {},
   "source": [
    "The objective function and constraints are added using the **+=** operator to the model.\\\n",
    "The objective function **Z** is added first and then we add all the constraints."
   ]
  },
  {
   "cell_type": "code",
   "execution_count": 4,
   "metadata": {
    "scrolled": true
   },
   "outputs": [],
   "source": [
    "# Objective function\n",
    "my_lp_problem += 12* x1 + 18* x2, \"Z\"\n",
    "\n",
    "# Constraints\n",
    "my_lp_problem += 6 * x1 + 5 * x2 <= 60\n",
    "my_lp_problem += x1 + 3* x2 <= 15\n",
    "my_lp_problem += x1>= 0\n",
    "my_lp_problem += x2>= 0"
   ]
  },
  {
   "cell_type": "markdown",
   "metadata": {},
   "source": [
    "### Solution\n",
    "We inspect the mathematical program formulation."
   ]
  },
  {
   "cell_type": "code",
   "execution_count": 5,
   "metadata": {
    "scrolled": true
   },
   "outputs": [
    {
     "data": {
      "text/plain": [
       "My LP Problem:\n",
       "MAXIMIZE\n",
       "12*$x_1$ + 18*$x_2$ + 0\n",
       "SUBJECT TO\n",
       "_C1: 6 $x_1$ + 5 $x_2$ <= 60\n",
       "\n",
       "_C2: $x_1$ + 3 $x_2$ <= 15\n",
       "\n",
       "_C3: $x_1$ >= 0\n",
       "\n",
       "_C4: $x_2$ >= 0\n",
       "\n",
       "VARIABLES\n",
       "-inf <= $x_1$ <= 9 Continuous\n",
       "-inf <= $x_2$ <= 4 Continuous"
      ]
     },
     "execution_count": 5,
     "metadata": {},
     "output_type": "execute_result"
    }
   ],
   "source": [
    "my_lp_problem"
   ]
  },
  {
   "cell_type": "markdown",
   "metadata": {},
   "source": [
    "We call the solver:"
   ]
  },
  {
   "cell_type": "code",
   "execution_count": 6,
   "metadata": {},
   "outputs": [
    {
     "data": {
      "text/plain": [
       "'Optimal'"
      ]
     },
     "execution_count": 6,
     "metadata": {},
     "output_type": "execute_result"
    }
   ],
   "source": [
    "my_lp_problem.solve()\n",
    "pulp.LpStatus[my_lp_problem.status]"
   ]
  },
  {
   "cell_type": "markdown",
   "metadata": {},
   "source": [
    "The optimal values of the decision variables that minimize $x_1$, $x_2$ are:"
   ]
  },
  {
   "cell_type": "code",
   "execution_count": 7,
   "metadata": {},
   "outputs": [
    {
     "name": "stdout",
     "output_type": "stream",
     "text": [
      " x1* = 8.0769231\n",
      " x2* = 2.3076923\n"
     ]
    }
   ],
   "source": [
    "#Print decision variables\n",
    "print(\" x1* = {}\".format(x1.varValue))\n",
    "print(\" x2* = {}\".format(x2.varValue))"
   ]
  },
  {
   "cell_type": "markdown",
   "metadata": {},
   "source": [
    "Print the **objective values $Z$**:"
   ]
  },
  {
   "cell_type": "code",
   "execution_count": 8,
   "metadata": {},
   "outputs": [
    {
     "name": "stdout",
     "output_type": "stream",
     "text": [
      "138.46153859999998\n"
     ]
    }
   ],
   "source": [
    "#Print objective function value (max Z)\n",
    "print(pulp.value(my_lp_problem.objective))"
   ]
  },
  {
   "cell_type": "markdown",
   "metadata": {},
   "source": [
    "The minimum objective value is approximately $138.5$."
   ]
  },
  {
   "cell_type": "markdown",
   "metadata": {},
   "source": [
    "### Sensitivity Analysis and Shadow Prices for Bindings Constraints"
   ]
  },
  {
   "cell_type": "markdown",
   "metadata": {},
   "source": [
    "We call a function that reports the shadow price:"
   ]
  },
  {
   "cell_type": "code",
   "execution_count": 9,
   "metadata": {},
   "outputs": [
    {
     "name": "stdout",
     "output_type": "stream",
     "text": [
      "  name  shadow price     slack\n",
      "0  _C1      1.384615 -0.000000\n",
      "1  _C2      3.692308 -0.000000\n",
      "2  _C3     -0.000000 -8.076923\n",
      "3  _C4     -0.000000 -2.307692\n"
     ]
    }
   ],
   "source": [
    "o = [{'name':name, 'shadow price':c.pi, 'slack': c.slack} \n",
    "     for name, c in my_lp_problem.constraints.items()]\n",
    "print(pd.DataFrame(o))"
   ]
  },
  {
   "cell_type": "markdown",
   "metadata": {},
   "source": [
    "The shadow price or the change in the optimal value of the objective function for a unit of change in the RHS of binding constraint $6 x_1+ 5 x_2 <= 60$ is 1.4 and 3.7 for binding constraint $x_1 + 3x_2 <= 15$, respectively."
   ]
  },
  {
   "cell_type": "code",
   "execution_count": null,
   "metadata": {},
   "outputs": [],
   "source": []
  }
 ],
 "metadata": {
  "kernelspec": {
   "display_name": "Python 3",
   "language": "python",
   "name": "python3"
  },
  "language_info": {
   "codemirror_mode": {
    "name": "ipython",
    "version": 3
   },
   "file_extension": ".py",
   "mimetype": "text/x-python",
   "name": "python",
   "nbconvert_exporter": "python",
   "pygments_lexer": "ipython3",
   "version": "3.7.4"
  }
 },
 "nbformat": 4,
 "nbformat_minor": 2
}
