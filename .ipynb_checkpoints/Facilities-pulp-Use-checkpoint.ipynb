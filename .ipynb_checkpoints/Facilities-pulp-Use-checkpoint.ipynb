{
 "cells": [
  {
   "cell_type": "code",
   "execution_count": 4,
   "metadata": {},
   "outputs": [],
   "source": [
    "#In this first step we import the packages that we will use in order to solve the capacitated facility location problem\n",
    "import numpy as np\n",
    "import matplotlib.pyplot as plt\n",
    "%matplotlib inline\n",
    "import pulp"
   ]
  },
  {
   "cell_type": "code",
   "execution_count": 11,
   "metadata": {},
   "outputs": [],
   "source": [
    "#define sets of warehouses and facilities\n",
    "customers=[0,1,2,3,4,5,6,7,8,9]\n",
    "warehouses=[0,1,2,3,4,5]\n",
    "demand=[25,15,20,10,15,15,25,20,30,20]\n",
    "fixedcosts=[1750000,1800000,3000000,2250000,1500000,1000000]\n",
    "capacity=[75,50,120,100,60,50]\n",
    "variablecosts={0: (0, {0:3,1:5,2:8, 3:12, 4:10, 5:11}),\n",
    "           1:(0, {0:6 ,1:7 ,2:10 ,3:12 ,4:8 ,5:10 }),\n",
    "           2:(0, {0:5 ,1:3 ,2:8 ,3:10 ,4:12 ,5:10 }) ,          \n",
    "           3:(0, {0:7 ,1:6 ,2:7 ,3:10 ,4:9 ,5:5 }), \n",
    "           4:(0, {0:10 ,1:8 ,2:5 ,3:8 ,4:6 ,5:5 }),      \n",
    "           5:(0, {0:12 ,1:6 ,2:4 ,3:7 ,4:5 ,5:4 }),      \n",
    "           6:(0, {0:7 ,1:10 ,2:6 ,3:6 ,4:8 ,5:3 }),        \n",
    "           7:(0, {0:5 ,1:6 ,2:9 ,3:4 ,4:4 ,5:7 }),      \n",
    "           8:(0, {0:8 ,1:10 ,2:7 ,3:5 ,4:4 ,5:6 }),      \n",
    "           9:(0, {0:10 ,1:12 ,2:8 ,3:3 ,4:4 ,5:6 })}\n",
    "\n"
   ]
  },
  {
   "cell_type": "code",
   "execution_count": 13,
   "metadata": {},
   "outputs": [
    {
     "ename": "NameError",
     "evalue": "name 'LpVariable' is not defined",
     "output_type": "error",
     "traceback": [
      "\u001b[0;31m---------------------------------------------------------------------------\u001b[0m",
      "\u001b[0;31mNameError\u001b[0m                                 Traceback (most recent call last)",
      "\u001b[0;32m<ipython-input-13-66146697e8bf>\u001b[0m in \u001b[0;36m<module>\u001b[0;34m\u001b[0m\n\u001b[1;32m      6\u001b[0m                                  for j in warehouses],\n\u001b[1;32m      7\u001b[0m                          0)\n\u001b[0;32m----> 8\u001b[0;31m \u001b[0muse_vars\u001b[0m\u001b[0;34m=\u001b[0m\u001b[0mLpVariable\u001b[0m\u001b[0;34m.\u001b[0m\u001b[0mdicts\u001b[0m\u001b[0;34m(\u001b[0m\u001b[0;34m\"UseLocation\"\u001b[0m\u001b[0;34m,\u001b[0m\u001b[0mwarehouses\u001b[0m\u001b[0;34m,\u001b[0m\u001b[0;36m0\u001b[0m\u001b[0;34m,\u001b[0m\u001b[0;36m1\u001b[0m\u001b[0;34m,\u001b[0m\u001b[0mLpBinary\u001b[0m\u001b[0;34m)\u001b[0m\u001b[0;34m\u001b[0m\u001b[0;34m\u001b[0m\u001b[0m\n\u001b[0m",
      "\u001b[0;31mNameError\u001b[0m: name 'LpVariable' is not defined"
     ]
    }
   ],
   "source": [
    "#Set problem variable\n",
    "prob = pulp.LpProblem(\"FacilityLocation\", pulp.LpMinimize)\n",
    "#Set decision variables\n",
    "x = pulp.LpVariable.dicts(\"service\",\n",
    "                         [(i, j) for i in customers\n",
    "                                 for j in warehouses],\n",
    "                         0)\n",
    "y=LpVariable.dicts(\"UseLocation\",warehouses,0,1,LpBinary)"
   ]
  },
  {
   "cell_type": "code",
   "execution_count": 71,
   "metadata": {},
   "outputs": [
    {
     "name": "stdout",
     "output_type": "stream",
     "text": [
      "Optimize a model with 16 rows, 66 columns and 126 nonzeros\n",
      "Variable types: 60 continuous, 6 integer (6 binary)\n",
      "Coefficient statistics:\n",
      "  Matrix range     [1e+00, 1e+02]\n",
      "  Objective range  [3e+00, 3e+06]\n",
      "  Bounds range     [1e+00, 1e+00]\n",
      "  RHS range        [1e+01, 3e+01]\n",
      "Presolve time: 0.00s\n",
      "Presolved: 16 rows, 66 columns, 126 nonzeros\n",
      "Variable types: 60 continuous, 6 integer (6 binary)\n",
      "\n",
      "Root relaxation: objective 4.300935e+06, 14 iterations, 0.00 seconds\n",
      "\n",
      "    Nodes    |    Current Node    |     Objective Bounds      |     Work\n",
      " Expl Unexpl |  Obj  Depth IntInf | Incumbent    BestBd   Gap | It/Node Time\n",
      "\n",
      "     0     0 4300935.00    0    1          - 4300935.00      -     -    0s\n",
      "H    0     0                    5000850.0000 4300935.00  14.0%     -    0s\n",
      "H    0     0                    4751130.0000 4300935.00  9.48%     -    0s\n",
      "     0     0 4300975.00    0    1 4751130.00 4300975.00  9.47%     -    0s\n",
      "     0     0 4375935.00    0    1 4751130.00 4375935.00  7.90%     -    0s\n",
      "     0     0 4375935.00    0    1 4751130.00 4375935.00  7.90%     -    0s\n",
      "     0     0 4417631.67    0    1 4751130.00 4417631.67  7.02%     -    0s\n",
      "H    0     0                    4751105.0000 4500645.00  5.27%     -    0s\n",
      "     0     0 4501175.00    0    1 4751105.00 4501175.00  5.26%     -    0s\n",
      "     0     0 4501175.00    0    1 4751105.00 4501175.00  5.26%     -    0s\n",
      "     0     0 4501175.00    0    1 4751105.00 4501175.00  5.26%     -    0s\n",
      "     0     0 4501175.00    0    1 4751105.00 4501175.00  5.26%     -    0s\n",
      "     0     0 4501175.00    0    1 4751105.00 4501175.00  5.26%     -    0s\n",
      "     0     0 4501175.00    0    1 4751105.00 4501175.00  5.26%     -    0s\n",
      "     0     2 4501175.00    0    1 4751105.00 4501175.00  5.26%     -    0s\n",
      "\n",
      "Cutting planes:\n",
      "  Gomory: 1\n",
      "  Implied bound: 3\n",
      "  MIR: 1\n",
      "\n",
      "Explored 13 nodes (112 simplex iterations) in 0.04 seconds\n",
      "Thread count was 8 (of 8 available processors)\n",
      "\n",
      "Solution count 3: 4.75110e+06 4.75113e+06 5.00085e+06 \n",
      "\n",
      "Optimal solution found (tolerance 1.00e-04)\n",
      "Best objective 4.751105000000e+06, best bound 4.751105000000e+06, gap 0.0000%\n"
     ]
    }
   ],
   "source": [
    "for j in range(6):\n",
    "    model.addConstr((quicksum(x[i,j] for i in range(10)) <= (y[j]*capacity[j])), name='c')\n",
    "for i in range(10):\n",
    "    model.addConstr(quicksum(x[i,j] for j in range(6)) == demand[i])\n",
    "obj=(quicksum(fixedcosts[j]*y[j] for j in range(6)) + quicksum(variablecosts[i][1][j] * x[i,j] for i in range(10) for j in range(6)))\n",
    "model.setObjective(obj)\n",
    "model.optimize()"
   ]
  },
  {
   "cell_type": "code",
   "execution_count": 72,
   "metadata": {},
   "outputs": [
    {
     "name": "stdout",
     "output_type": "stream",
     "text": [
      "0 0 : 25.0\n",
      "1 0 : 15.0\n",
      "2 0 : 15.0\n",
      "2 2 : 5.0\n",
      "3 2 : 10.0\n",
      "4 2 : 15.0\n",
      "5 2 : 15.0\n",
      "6 2 : 25.0\n",
      "7 0 : 20.0\n",
      "8 2 : 30.0\n",
      "9 2 : 20.0\n",
      "0 : 1.0\n",
      "2 : 1.0\n"
     ]
    }
   ],
   "source": [
    "for i in range(10):\n",
    "    for j in range(6):\n",
    "        if x[i,j].X>0:\n",
    "            print(i,j, str(\":\"), x[i,j].X)\n",
    "for i in range(6):\n",
    "    if y[i].X:\n",
    "        print(i, str(\":\"), y[i].X)"
   ]
  },
  {
   "cell_type": "code",
   "execution_count": 60,
   "metadata": {},
   "outputs": [],
   "source": [
    "### Part 2"
   ]
  },
  {
   "cell_type": "code",
   "execution_count": 73,
   "metadata": {},
   "outputs": [],
   "source": [
    "#Model b\n",
    "model2=Model()\n",
    "x=model2.addVars(10,6, vtype=GRB.BINARY, name=\"x\")\n",
    "y=model2.addVars(6, vtype=GRB.BINARY, name=\"y\")"
   ]
  },
  {
   "cell_type": "code",
   "execution_count": 74,
   "metadata": {},
   "outputs": [
    {
     "name": "stdout",
     "output_type": "stream",
     "text": [
      "Optimize a model with 16 rows, 66 columns and 126 nonzeros\n",
      "Variable types: 0 continuous, 66 integer (66 binary)\n",
      "Coefficient statistics:\n",
      "  Matrix range     [1e+00, 1e+02]\n",
      "  Objective range  [5e+01, 3e+06]\n",
      "  Bounds range     [1e+00, 1e+00]\n",
      "  RHS range        [1e+00, 1e+00]\n",
      "Found heuristic solution: objective 9051470.0000\n",
      "Presolve time: 0.00s\n",
      "Presolved: 16 rows, 66 columns, 126 nonzeros\n",
      "Variable types: 0 continuous, 66 integer (66 binary)\n",
      "\n",
      "Root relaxation: objective 4.300935e+06, 27 iterations, 0.00 seconds\n",
      "\n",
      "    Nodes    |    Current Node    |     Objective Bounds      |     Work\n",
      " Expl Unexpl |  Obj  Depth IntInf | Incumbent    BestBd   Gap | It/Node Time\n",
      "\n",
      "     0     0 4300935.00    0    3 9051470.00 4300935.00  52.5%     -    0s\n",
      "H    0     0                    5001100.0000 4300935.00  14.0%     -    0s\n",
      "H    0     0                    5000860.0000 4300935.00  14.0%     -    0s\n",
      "H    0     0                    4751415.0000 4300935.00  9.48%     -    0s\n",
      "H    0     0                    4751135.0000 4325785.00  8.95%     -    0s\n",
      "     0     0 4376130.00    0    9 4751135.00 4376130.00  7.89%     -    0s\n",
      "     0     0 4626170.00    0    5 4751135.00 4626170.00  2.63%     -    0s\n",
      "     0     0 4626170.00    0   10 4751135.00 4626170.00  2.63%     -    0s\n",
      "     0     0 4626170.00    0   19 4751135.00 4626170.00  2.63%     -    0s\n",
      "     0     0 4626170.00    0   19 4751135.00 4626170.00  2.63%     -    0s\n",
      "     0     0 4626170.00    0    5 4751135.00 4626170.00  2.63%     -    0s\n",
      "     0     0 4626170.00    0    5 4751135.00 4626170.00  2.63%     -    0s\n",
      "     0     0 4626170.00    0    5 4751135.00 4626170.00  2.63%     -    0s\n",
      "     0     0 4626170.00    0   15 4751135.00 4626170.00  2.63%     -    0s\n",
      "     0     0 4626170.00    0   12 4751135.00 4626170.00  2.63%     -    0s\n",
      "     0     0 4626170.00    0   12 4751135.00 4626170.00  2.63%     -    0s\n",
      "     0     2 4626170.00    0   12 4751135.00 4626170.00  2.63%     -    0s\n",
      "\n",
      "Cutting planes:\n",
      "  Gomory: 2\n",
      "  Cover: 4\n",
      "  Clique: 2\n",
      "  MIR: 6\n",
      "\n",
      "Explored 8 nodes (194 simplex iterations) in 0.06 seconds\n",
      "Thread count was 8 (of 8 available processors)\n",
      "\n",
      "Solution count 5: 4.75114e+06 4.75142e+06 5.00086e+06 ... 9.05147e+06\n",
      "\n",
      "Optimal solution found (tolerance 1.00e-04)\n",
      "Best objective 4.751135000000e+06, best bound 4.751135000000e+06, gap 0.0000%\n"
     ]
    }
   ],
   "source": [
    "for i in range(10):\n",
    "    model2.addConstr((quicksum(x[i,j] for j in range(6)) == 1))\n",
    "for j in range(6):\n",
    "    model2.addConstr(quicksum(demand[i]*x[i,j]  for i in range(10)) <= y[j]*capacity[j])\n",
    "obj2=quicksum(fixedcosts[j]*y[j] for j in range(6)) + quicksum(variablecosts[i][1][j] * x[i,j]*demand[i] for i in range(10) for j in range(6))\n",
    "model2.setObjective(obj2)\n",
    "model2.optimize()"
   ]
  },
  {
   "cell_type": "code",
   "execution_count": 75,
   "metadata": {},
   "outputs": [
    {
     "name": "stdout",
     "output_type": "stream",
     "text": [
      "0 4 : 1.0\n",
      "1 4 : 1.0\n",
      "2 3 : 1.0\n",
      "3 5 : 1.0\n",
      "4 5 : 1.0\n",
      "5 4 : 1.0\n",
      "6 5 : 1.0\n",
      "7 3 : 1.0\n",
      "8 3 : 1.0\n",
      "9 3 : 1.0\n",
      "3 : 1.0\n",
      "4 : 1.0\n",
      "5 : 1.0\n"
     ]
    }
   ],
   "source": [
    "for i in range(10):\n",
    "    for j in range(6):\n",
    "        if x[i,j].X>0:\n",
    "            print(i,j, str(\":\"), x[i,j].X)\n",
    "for i in range(6):\n",
    "    if y[i].X:\n",
    "        print(i, str(\":\"), y[i].X)"
   ]
  },
  {
   "cell_type": "code",
   "execution_count": 76,
   "metadata": {},
   "outputs": [],
   "source": [
    "for i in range(6):\n",
    "    model2.addConstr(quicksum(x[j,i] for j in range(10))<=3)"
   ]
  },
  {
   "cell_type": "code",
   "execution_count": 77,
   "metadata": {},
   "outputs": [
    {
     "name": "stdout",
     "output_type": "stream",
     "text": [
      "Optimize a model with 22 rows, 66 columns and 186 nonzeros\n",
      "Variable types: 0 continuous, 66 integer (66 binary)\n",
      "Coefficient statistics:\n",
      "  Matrix range     [1e+00, 1e+02]\n",
      "  Objective range  [5e+01, 3e+06]\n",
      "  Bounds range     [1e+00, 1e+00]\n",
      "  RHS range        [1e+00, 3e+00]\n",
      "\n",
      "MIP start did not produce a new incumbent solution\n",
      "MIP start violates constraint R19 by 1.000000000\n",
      "\n",
      "Found heuristic solution: objective 9051470.0000\n",
      "Presolve time: 0.00s\n",
      "Presolved: 22 rows, 66 columns, 186 nonzeros\n",
      "Variable types: 0 continuous, 66 integer (66 binary)\n",
      "\n",
      "Root relaxation: objective 4.532325e+06, 38 iterations, 0.00 seconds\n",
      "\n",
      "    Nodes    |    Current Node    |     Objective Bounds      |     Work\n",
      " Expl Unexpl |  Obj  Depth IntInf | Incumbent    BestBd   Gap | It/Node Time\n",
      "\n",
      "     0     0 4532325.00    0    9 9051470.00 4532325.00  49.9%     -    0s\n",
      "H    0     0                    6500920.0000 4532325.00  30.3%     -    0s\n",
      "H    0     0                    6500890.0000 4532325.00  30.3%     -    0s\n",
      "H    0     0                    6050915.0000 5001285.00  17.3%     -    0s\n",
      "H    0     0                    6050815.0000 5001285.00  17.3%     -    0s\n",
      "     0     0 5001285.00    0   14 6050815.00 5001285.00  17.3%     -    0s\n",
      "     0     0 5250855.00    0    2 6050815.00 5250855.00  13.2%     -    0s\n",
      "     0     0 5400700.00    0    9 6050815.00 5400700.00  10.7%     -    0s\n",
      "     0     0 5426035.00    0    9 6050815.00 5426035.00  10.3%     -    0s\n",
      "     0     2 5426035.00    0    9 6050815.00 5426035.00  10.3%     -    0s\n",
      "\n",
      "Cutting planes:\n",
      "  Gomory: 1\n",
      "  MIR: 3\n",
      "\n",
      "Explored 22 nodes (305 simplex iterations) in 0.05 seconds\n",
      "Thread count was 8 (of 8 available processors)\n",
      "\n",
      "Solution count 5: 6.05082e+06 6.05092e+06 6.50089e+06 ... 9.05147e+06\n",
      "\n",
      "Optimal solution found (tolerance 1.00e-04)\n",
      "Best objective 6.050815000000e+06, best bound 6.050815000000e+06, gap 0.0000%\n"
     ]
    }
   ],
   "source": [
    "model2.optimize()"
   ]
  },
  {
   "cell_type": "code",
   "execution_count": 78,
   "metadata": {},
   "outputs": [
    {
     "name": "stdout",
     "output_type": "stream",
     "text": [
      "0 0 : 1.0\n",
      "1 0 : 1.0\n",
      "2 1 : 1.0\n",
      "3 5 : 1.0\n",
      "4 5 : 1.0\n",
      "5 1 : 1.0\n",
      "6 5 : 1.0\n",
      "7 0 : 1.0\n",
      "8 4 : 1.0\n",
      "9 4 : 1.0\n",
      "0 : 1.0\n",
      "1 : 1.0\n",
      "4 : 1.0\n",
      "5 : 1.0\n"
     ]
    }
   ],
   "source": [
    "for i in range(10):\n",
    "    for j in range(6):\n",
    "        if x[i,j].X>0:\n",
    "            print(i,j, str(\":\"), x[i,j].X)\n",
    "for i in range(6):\n",
    "    if y[i].X:\n",
    "        print(i, str(\":\"), y[i].X)"
   ]
  },
  {
   "cell_type": "code",
   "execution_count": null,
   "metadata": {},
   "outputs": [],
   "source": []
  }
 ],
 "metadata": {
  "kernelspec": {
   "display_name": "Python 3",
   "language": "python",
   "name": "python3"
  },
  "language_info": {
   "codemirror_mode": {
    "name": "ipython",
    "version": 3
   },
   "file_extension": ".py",
   "mimetype": "text/x-python",
   "name": "python",
   "nbconvert_exporter": "python",
   "pygments_lexer": "ipython3",
   "version": "3.7.4"
  }
 },
 "nbformat": 4,
 "nbformat_minor": 2
}
