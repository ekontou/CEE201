{
 "cells": [
  {
   "cell_type": "code",
   "execution_count": 1,
   "metadata": {},
   "outputs": [],
   "source": [
    "# Import python packages numpy, matplotlib, and pulp\n",
    "import numpy as np\n",
    "import matplotlib.pyplot as plt\n",
    "%matplotlib inline\n",
    "import pulp"
   ]
  },
  {
   "cell_type": "markdown",
   "metadata": {},
   "source": [
    "# CEE 201: Linear Programming with Jupyter Notebooks\n",
    "\n",
    "## Example3-1: Homewood Masonry-A Materials Production Problem\n",
    "\n",
    "### Problem Statement\n",
    "\n",
    "Homewood Masonry is a small owner-operated firm that produces construction materials for the residential and commercial construction industry in the region. TI1e company specializes in the manufacture of two widely used building products: (1) a universal concrete patching product called HYDIT and (2) a decorative brick mortar called FILIT. These products are in great demand and Homewood can sell all of the HYDIT it produces for a profit of 140 dollars per ton and all the FILIT it can produce for a profit of 160 dollars per ton.\n",
    "\n",
    "Unfortunately, some of the resources needed to manufacture these products are in limited supply. First, the demand for both HYDIT and FILIT is due in large part to their special adhesive characteristics, which result from the use of a special\n",
    "ingredient in the blending process-Wabash Red Clay (from the banks of the\n",
    "Wabash River in Indiana). Each ton of HYDIT produced requires 2 cubic meters of\n",
    "this red clay, and each ton of FILIT produced requires 4 cubic meters.\n",
    "\n",
    "Wabash Red Clay is in limited supply; a maximum of 28 cubic meters of the clay is available each week. Second, the operator of the machine used to blend these\n",
    "products can work only a maximum of 50 hours per week. This machine blends a ton\n",
    "of either product at a time. and the blending process requires 5 hours to complete.\n",
    "Last, each material must be stored in a separate curing vat, further limiting the over\n",
    "all production volume of each product. The curing vats for HYDIT and FILIT have\n",
    "capacities of 8 and 6 tons, respectively. These resource limitations are summarized below.\n",
    "\n",
    "| Resource      | HYDIT $(x_1)$      | FILIT $(x_2)$      | Available    |\n",
    "|----------------|----------------|----------------|----------------|\n",
    "| Wabash Red Clay     |  2 $m^3/ton$  |  4 $m^3/ton$     | 28 $m^3/wk$|\n",
    "| Blending time| 5 hr/ton  | 5 hr/ton  | 50 hr/wk  |\n",
    "| Curing vat capacity | 8 tons | 6 tons|   |\n",
    "| Profit | \\$140 |\\$160 | |\n",
    "\n",
    "#### What is the optimal production strategy for Homewood Masonry given these data?"
   ]
  },
  {
   "cell_type": "markdown",
   "metadata": {},
   "source": [
    "### Objective Function & Constraints\n",
    "#### Maximizing total profit\n",
    "$Z=140x_1+160x_2$\n",
    "\n",
    "#### Production costraints\n",
    "* Maximum Wabash Red Clay per week \\\n",
    "$2x_1+4x_2\\leq 28$\n",
    "* Maximum work hour per week is 50 \\\n",
    "$5x_1+5x_2\\leq 50$\n",
    "* Curing vat capacity for HYDIT is at most:  \\\n",
    "$x_1\\leq 8$\n",
    "* Curing vat capacity for FILIT is at most: \\\n",
    "$x_2\\leq 6$\n",
    "* Production cannot be negative \\\n",
    "$x_1 \\geq 0$, \n",
    "$x_2 \\geq 0$"
   ]
  },
  {
   "cell_type": "code",
   "execution_count": 2,
   "metadata": {},
   "outputs": [
    {
     "data": {
      "text/plain": [
       "<matplotlib.collections.PolyCollection at 0x1154b6ed0>"
      ]
     },
     "execution_count": 2,
     "metadata": {},
     "output_type": "execute_result"
    },
    {
     "data": {
      "image/png": "[encoded data removed]",
      "text/plain": [
       "<Figure size 432x288 with 1 Axes>"
      ]
     },
     "metadata": {
      "needs_background": "light"
     },
     "output_type": "display_data"
    }
   ],
   "source": [
    "# Construct lines\n",
    "# x1 > 0\n",
    "x = np.linspace(0, 20, 2000)\n",
    "y = np.linspace(0, 20, 2000)\n",
    "# x1 <= 8\n",
    "x1 = (y*0) + 8\n",
    "# x2 <= 6\n",
    "y1 = (x*0) + 6\n",
    "# 2x1+4x2 <= 28\n",
    "y2 = (28-2*x)/4\n",
    "# 5x1+5x2 <= 50\n",
    "y3 = (50-5*x)/5.0\n",
    "\n",
    "plt.plot(x1, y, label=r'$x_1\\leq 8$')\n",
    "plt.plot(x, y1, label=r'$x_2\\leq 6$')\n",
    "plt.plot(x, y2, label=r'$2x_1+4x_2\\leq 28$')\n",
    "plt.plot(x, y3, label=r'$5x_1+5x_2\\leq 50$')\n",
    "plt.xlim((0, 10))\n",
    "plt.ylim((0, 10))\n",
    "plt.xlabel(r'$x_1$')\n",
    "plt.ylabel(r'$x_2$')\n",
    "\n",
    "# Fill feasible region\n",
    "y5 = np.minimum(y1,y2)\n",
    "y6 = np.minimum(y5, y3)\n",
    "plt.fill_between(x,y6,y*0,where= x<=8,  color='grey', alpha=0.5)"
   ]
  },
  {
   "cell_type": "markdown",
   "metadata": {},
   "source": [
    "Our solution lies somewhere in the grey feasible region in the graph above.\\\n",
    "\\\n",
    "It has been proven that the minima and maxima of linear programming problems lie at the vertices of the feasible region. In this example, there are 6 corners to our feasible region, so we can find the solutions for each corner to find our maximum. \n",
    "\n",
    "### Solution\n",
    "We need to examine the value of the objective function $Z$ at the 6 corners, which are the intersections of the system of equations below.\n",
    "\n",
    "\n",
    "We see that the **maximum solution** $Z=1480$ is for $x_1=6$ and $x_2=4$."
   ]
  },
  {
   "cell_type": "markdown",
   "metadata": {},
   "source": [
    "| Line 1 | Line 2 | $x_1$ | $x_2$ | $Z$ Value |\n",
    "|:-----------------------:|:-----------------------:|-----------------|------------------|-----------|\n",
    "| $x_1 =8$ | $x_2 = 0$ | 8 | 0 | 1120 |\n",
    "| $x_1 =8$ | $5x_1 +5x_2= 50$ | 8 | 2 | 1440 |\n",
    "| $2x_1 +4x_2=28$ | $5x_1 +5x_2= 50$ | 6 | 4 | 1480 |\n",
    "| $2x_1 +4x_2= 28$ | $x_2 = 6 $ | 2 | 6 | 1240 |\n",
    "| $x_1 = 0$ | $x_2 = 6$ | 0 | 6 | 960 |\n",
    "| $x_1 = 0$ | $x_2 = 0$ | 0 | 0 | 0 |"
   ]
  },
  {
   "cell_type": "markdown",
   "metadata": {},
   "source": [
    "## Solution by Python Pulp package"
   ]
  },
  {
   "cell_type": "code",
   "execution_count": 3,
   "metadata": {},
   "outputs": [
    {
     "name": "stdout",
     "output_type": "stream",
     "text": [
      "My LP Problem:\n",
      "MAXIMIZE\n",
      "140*$x_1$ + 160*$x_2$ + 0\n",
      "SUBJECT TO\n",
      "_C1: 2 $x_1$ + 4 $x_2$ <= 28\n",
      "\n",
      "_C2: 5 $x_1$ + 5 $x_2$ <= 50\n",
      "\n",
      "VARIABLES\n",
      "$x_1$ <= 8 Continuous\n",
      "$x_2$ <= 6 Continuous\n",
      "\n",
      "Optimal Solution\n",
      " x1* = 6.0\n",
      " x2* = 4.0\n",
      " Z* =  1480.0\n"
     ]
    }
   ],
   "source": [
    "# Import python packages numpy, matplotlib, and pulp\n",
    "import numpy as np\n",
    "import matplotlib.pyplot as plt\n",
    "%matplotlib inline\n",
    "import pulp\n",
    "\n",
    "my_lp_problem = pulp.LpProblem(\"My LP Problem\", pulp.LpMaximize)\n",
    "x1 = pulp.LpVariable('$x_1$',lowBound=0, upBound=8, cat='Continuous')\n",
    "x2 = pulp.LpVariable('$x_2$',lowBound=0, upBound=6, cat='Continuous')\n",
    "# Objective function\n",
    "my_lp_problem += 140 * x1 + 160 * x2, \"Z\"\n",
    "# Constraints\n",
    "my_lp_problem += 2 * x1 + 4 * x2 <= 28\n",
    "my_lp_problem += 5 * x1 + 5 * x2 <= 50\n",
    "print(my_lp_problem)\n",
    "\n",
    "my_lp_problem.solve()\n",
    "print('Optimal Solution')\n",
    "#Print decision variables\n",
    "print(\" x1* = {}\".format(x1.varValue))\n",
    "print(\" x2* = {}\".format(x2.varValue))\n",
    "#Print objective function value (max Z)\n",
    "print(\" Z* = \",pulp.value(my_lp_problem.objective))"
   ]
  },
  {
   "cell_type": "code",
   "execution_count": null,
   "metadata": {},
   "outputs": [],
   "source": []
  }
 ],
 "metadata": {
  "kernelspec": {
   "display_name": "Python 3",
   "language": "python",
   "name": "python3"
  },
  "language_info": {
   "codemirror_mode": {
    "name": "ipython",
    "version": 3
   },
   "file_extension": ".py",
   "mimetype": "text/x-python",
   "name": "python",
   "nbconvert_exporter": "python",
   "pygments_lexer": "ipython3",
   "version": "3.7.4"
  }
 },
 "nbformat": 4,
 "nbformat_minor": 2
}
