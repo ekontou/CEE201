{
 "cells": [
  {
   "cell_type": "markdown",
   "metadata": {},
   "source": [
    "# CEE 201: Solving the Shortest Path Problem"
   ]
  },
  {
   "cell_type": "markdown",
   "metadata": {},
   "source": [
    "## Graphing the Network"
   ]
  },
  {
   "cell_type": "markdown",
   "metadata": {},
   "source": [
    "We are searching for the shortest path between origin city 1 and destination city 6. The network of the shortest path problem is presented below:\n",
    "![](Network-ShortestPath.png)"
   ]
  },
  {
   "cell_type": "code",
   "execution_count": 21,
   "metadata": {},
   "outputs": [],
   "source": [
    "# Import PuLP modeler functions\n",
    "from pulp import *\n",
    "# Data for Linear Optimization Problem\n",
    "N = 6  # Number of nodes in network\n",
    "M = 2  # number of end nodes (source and sink or origin and destination)\n",
    "INT = 4 # Number of intermediate nodes\n",
    "H = 10000.0 # A very high cost constant\n",
    "a = range(1, N+1)\n",
    "al = range(N)\n",
    "b = range(1,N+1)\n",
    "bl = range(N)\n",
    "# Index list for decision variables x\n",
    "xindx = [(a[i],b[j]) for j in bl for i in al]\n",
    "T = INT + M # number of artificial variables (y)\n",
    "tindx = range(1, T+1)"
   ]
  },
  {
   "cell_type": "markdown",
   "metadata": {},
   "source": [
    "Create the model to contain the problem data"
   ]
  },
  {
   "cell_type": "code",
   "execution_count": 22,
   "metadata": {},
   "outputs": [],
   "source": [
    "model = LpProblem(\"Shortest Path Problem\",LpMinimize)\n",
    "# Decision variables\n",
    "x = LpVariable.dicts(\"X\", xindx,0,None)\n",
    "y = LpVariable.dicts(\"Y\", tindx,0,None)\n",
    "model+= 0.0*x[1,1] + 4.0*x[1,2] + 2.0*x[1,3] + H*x[1,4] +H*x[1,5] + H*x[1,6] + H*x[2,1] + 0.0*x[2,2] + H*x[2,3] + 5.0*x[2,4] + H*x[2,5]+ H*x[2,6]+ H*x[3,1] + 1.0*x[3,2] + 0.0*x[3,3] + 8.0*x[3,4] + 10.0*x[3,5]+ H*x[3,6]+ H*x[4,1] + H*x[4,2] + H*x[4,3] + 0.0*x[4,4] + 2.0*x[4,5]+ 6.0*x[4,6]+ H*x[5,1] + H*x[5,2] + H*x[5,3] + H*x[5,4] + 0.0*x[5,5] + 2.0*x[5,6]+ H*x[6,1] + H*x[6,2] + H*x[6,3] + H*x[6,4] + H*x[6,5] + 0.0*x[6,6], \"Transportation cost\""
   ]
  },
  {
   "cell_type": "markdown",
   "metadata": {},
   "source": [
    "Source and destination model constraints, as well as, intermediate network constraints denoting flow conservation."
   ]
  },
  {
   "cell_type": "code",
   "execution_count": 26,
   "metadata": {
    "scrolled": true
   },
   "outputs": [],
   "source": [
    "model += x[1,2] + x[1,3] -y[1] == 1,\"Source node\"\n",
    "model += x[4,6] + x[5,6] -y[2] == 1,\"Destination node\"\n",
    "model += x[1,2] + x[3,2] - x[2,4] - y[3] == 0,\"Node 2\"\n",
    "model += x[1,3] - x[3,2] - x[3,4] - x[3,5] - y[4] == 0,\"Node 3\"\n",
    "model += x[2,4] + x[3,4] - x[4,5] - x[4,6] - y[5] == 0, \"Node 4\"\n",
    "model += x[3,5] + x[4,5] - x[5,6] - y[6] == 0, \"Node 5\""
   ]
  },
  {
   "cell_type": "markdown",
   "metadata": {},
   "source": [
    "We solve the network shortest path problem by calling the solver; the status shows whether we reached an optimal solution."
   ]
  },
  {
   "cell_type": "code",
   "execution_count": 27,
   "metadata": {},
   "outputs": [
    {
     "name": "stdout",
     "output_type": "stream",
     "text": [
      "Status: Optimal\n"
     ]
    }
   ],
   "source": [
    "model.solve()\n",
    "print(\"Status:\", LpStatus[model.status])"
   ]
  },
  {
   "cell_type": "markdown",
   "metadata": {},
   "source": [
    "S"
   ]
  },
  {
   "cell_type": "code",
   "execution_count": 30,
   "metadata": {},
   "outputs": [
    {
     "name": "stdout",
     "output_type": "stream",
     "text": [
      "X_(1,_3) = 1.0\n",
      "X_(2,_4) = 1.0\n",
      "X_(3,_2) = 1.0\n",
      "X_(4,_5) = 1.0\n",
      "X_(5,_6) = 1.0\n"
     ]
    }
   ],
   "source": [
    "for v in model.variables():\n",
    "    if v.varValue==1:\n",
    "        print (v.name, \"=\", v.varValue)"
   ]
  },
  {
   "cell_type": "markdown",
   "metadata": {},
   "source": []
  },
  {
   "cell_type": "code",
   "execution_count": 29,
   "metadata": {},
   "outputs": [
    {
     "name": "stdout",
     "output_type": "stream",
     "text": [
      "Objective Function 12.0\n"
     ]
    }
   ],
   "source": [
    "# Print the optimized value of the objective function\n",
    "print(\"Objective Function\", value(model.objective))"
   ]
  },
  {
   "cell_type": "code",
   "execution_count": null,
   "metadata": {},
   "outputs": [],
   "source": []
  }
 ],
 "metadata": {
  "kernelspec": {
   "display_name": "Python 3",
   "language": "python",
   "name": "python3"
  },
  "language_info": {
   "codemirror_mode": {
    "name": "ipython",
    "version": 3
   },
   "file_extension": ".py",
   "mimetype": "text/x-python",
   "name": "python",
   "nbconvert_exporter": "python",
   "pygments_lexer": "ipython3",
   "version": "3.7.4"
  }
 },
 "nbformat": 4,
 "nbformat_minor": 2
}
