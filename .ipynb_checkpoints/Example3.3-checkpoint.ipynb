{
 "cells": [
  {
   "cell_type": "markdown",
   "metadata": {},
   "source": [
    "# CEE 201: Linear Programming with Jupyter Notebooks"
   ]
  },
  {
   "cell_type": "markdown",
   "metadata": {},
   "source": [
    "## The Mining Company Problem with a Nonlinear Objective Function\n",
    "### ReVelle et al. book, Ch. 3, Ex. 3.3 p.55"
   ]
  },
  {
   "cell_type": "code",
   "execution_count": 32,
   "metadata": {},
   "outputs": [],
   "source": [
    "# Import python packages numpy, matplotlib, and pulp\n",
    "import numpy as np\n",
    "import matplotlib.pyplot as plt\n",
    "%matplotlib inline\n",
    "import pulp"
   ]
  },
  {
   "cell_type": "markdown",
   "metadata": {},
   "source": [
    "### Problem Statement\n",
    "Company has two mines whose ores contain both copper and nickel minerals. Company is negotiating contracts to increase copper production to 330 tons per week and nickel to 225 tons per week. This would require operating mines over the weekend and increase labor costs. The costs expect to be $\\$6,000$ per weekend day for mine 1 and $\\$12,000$ per weekend day for mine 2. How can we modify the 3.2 problem to incorporate the new piece of information?"
   ]
  },
  {
   "cell_type": "markdown",
   "metadata": {},
   "source": [
    "Our **objective** is to set up a linear program that will show the company how to meet its contract obligations at the least total cost."
   ]
  },
  {
   "cell_type": "markdown",
   "metadata": {},
   "source": [
    "## Model Formulation\n",
    "### Additional Decision Variables\n",
    "$y_1$: additional weekend days per week that we operate mine 1 \\\n",
    "$y_2$: additional weekend days per week that we operate mine 2  \\\n",
    "Note that since weekend has most 2 days we need to impose constraints to the max value of $y_1$ and $y_2$."
   ]
  },
  {
   "cell_type": "markdown",
   "metadata": {},
   "source": [
    "### Objective Function & Constraints\n",
    "#### Minimizing total operating cost\n",
    "$minZ=3x_1+6y_1+9x_2+12y_2$ \\\n",
    "The following graph shows the modified objective function for the mine operation problem. Note that now we have 4 decision variables!"
   ]
  },
  {
   "cell_type": "code",
   "execution_count": 53,
   "metadata": {},
   "outputs": [
    {
     "data": {
      "text/plain": [
       "<matplotlib.legend.Legend at 0x1208d0c10>"
      ]
     },
     "execution_count": 53,
     "metadata": {},
     "output_type": "execute_result"
    },
    {
     "data": {
      "image/png": "[encoded data removed]",
      "text/plain": [
       "<Figure size 432x288 with 1 Axes>"
      ]
     },
     "metadata": {
      "needs_background": "light"
     },
     "output_type": "display_data"
    }
   ],
   "source": [
    "#Slope of cost is different for weekday days and weekend days\n",
    "k1=np.linspace(0,5)\n",
    "k2=np.linspace(5,7)\n",
    "m1=3*k1\n",
    "m2=6*k2-15\n",
    "plt.plot(k1, m1, 'k--', label='Mine 1 weekday') #slope 3:1\n",
    "plt.plot(k2, m2, 'r--',  label='Mine 1 weekend') #slope 6:1\n",
    "n1=9*k1\n",
    "n2=12*k2-15\n",
    "plt.plot(k1, n1, 'k-.', label='Mine 1 weekend') #slope 9:1\n",
    "plt.plot(k2, n2, 'r-.', label='Mine 1 weekend') #slope 12:1\n",
    "plt.xlabel('Days of Operation')\n",
    "plt.ylabel('Weekly Cost to Operate Mines')\n",
    "plt.legend(bbox_to_anchor=(1.05, 1), loc=2, borderaxespad=0.)"
   ]
  },
  {
   "cell_type": "markdown",
   "metadata": {},
   "source": [
    "#### Subject to \n",
    "* At least 330 tons of copper must be mined each week  \\\n",
    "$40x_1+40y_1+15x_2+15y_2\\geq 330$\n",
    "* At least 225 tons of nickel must be mined each week \\\n",
    "$14x_1+14y_1+35x_2+35y_2\\geq 225$\n",
    "* Mine 1 cannot operate more than 5 days per each week \\\n",
    "$x_1\\leq 5$\n",
    "* Mine 1 cannot operate more than 5 days per each week \\\n",
    "$x_2\\leq 5$\n",
    "* Mine 1 cannot operate more than 5 days per each week \\\n",
    "$y_1\\leq 2$\n",
    "* Mine 1 cannot operate more than 5 days per each week \\\n",
    "$y_2\\leq 2$\n",
    "* Hours of operation per week cannot be negative \\\n",
    "$x_1 \\geq 0$, \n",
    "$x_2 \\geq 0$, \n",
    "$y_1 \\geq 0$, \n",
    "$y_2 \\geq 0$"
   ]
  },
  {
   "cell_type": "markdown",
   "metadata": {},
   "source": [
    "### Problem Solution\n",
    "#### Solver Solution\n",
    "We define the class of the problem:"
   ]
  },
  {
   "cell_type": "code",
   "execution_count": 35,
   "metadata": {},
   "outputs": [],
   "source": [
    "my_lp_problem = pulp.LpProblem(\"My LP Problem\", pulp.LpMinimize)"
   ]
  },
  {
   "cell_type": "markdown",
   "metadata": {},
   "source": [
    "We set the upper and the lower bounds of $x_1$, $x_2$, $y_1$, $y_2$:"
   ]
  },
  {
   "cell_type": "code",
   "execution_count": 36,
   "metadata": {},
   "outputs": [],
   "source": [
    "y1 = pulp.LpVariable('$y_1$',upBound=2, cat='Continuous')\n",
    "y2 = pulp.LpVariable('$y_2$',upBound=2, cat='Continuous')\n",
    "x1 = pulp.LpVariable('$x_1$',upBound=5, cat='Continuous')\n",
    "x2 = pulp.LpVariable('$x_2$',upBound=5, cat='Continuous')"
   ]
  },
  {
   "cell_type": "markdown",
   "metadata": {},
   "source": [
    "The objective function and constraints are added using the **+=** operator to the model.\\\n",
    "The objective function **Z** is added first and then we add all the constraints."
   ]
  },
  {
   "cell_type": "code",
   "execution_count": 37,
   "metadata": {
    "scrolled": true
   },
   "outputs": [],
   "source": [
    "# Objective function\n",
    "# minZ=3x1+6y1+9x2+12y2\n",
    "my_lp_problem += 3 * x1 + 6 * y1+ 9 * x2 + 12 * y2, \"Z\"\n",
    "\n",
    "# Constraints\n",
    "my_lp_problem += 40 * x1 + 40 * y1 + 15 * x2 + 15 * y2>= 330\n",
    "my_lp_problem += 14 * x1 + 14 * y1 + 35 * x2 + 35 * y2>= 225\n",
    "my_lp_problem += x1>= 0\n",
    "my_lp_problem += x2>= 0\n",
    "my_lp_problem += y1>= 0\n",
    "my_lp_problem += y2>= 0"
   ]
  },
  {
   "cell_type": "markdown",
   "metadata": {},
   "source": [
    "### Solution\n",
    "We inspect the mathematical program formulation."
   ]
  },
  {
   "cell_type": "code",
   "execution_count": 38,
   "metadata": {
    "scrolled": true
   },
   "outputs": [
    {
     "data": {
      "text/plain": [
       "My LP Problem:\n",
       "MINIMIZE\n",
       "3*$x_1$ + 9*$x_2$ + 6*$y_1$ + 12*$y_2$ + 0\n",
       "SUBJECT TO\n",
       "_C1: 40 $x_1$ + 15 $x_2$ + 40 $y_1$ + 15 $y_2$ >= 330\n",
       "\n",
       "_C2: 14 $x_1$ + 35 $x_2$ + 14 $y_1$ + 35 $y_2$ >= 225\n",
       "\n",
       "_C3: $x_1$ >= 0\n",
       "\n",
       "_C4: $x_2$ >= 0\n",
       "\n",
       "_C5: $y_1$ >= 0\n",
       "\n",
       "_C6: $y_2$ >= 0\n",
       "\n",
       "VARIABLES\n",
       "-inf <= $x_1$ <= 5 Continuous\n",
       "-inf <= $x_2$ <= 5 Continuous\n",
       "-inf <= $y_1$ <= 2 Continuous\n",
       "-inf <= $y_2$ <= 2 Continuous"
      ]
     },
     "execution_count": 38,
     "metadata": {},
     "output_type": "execute_result"
    }
   ],
   "source": [
    "my_lp_problem"
   ]
  },
  {
   "cell_type": "markdown",
   "metadata": {},
   "source": [
    "We call the solver:"
   ]
  },
  {
   "cell_type": "code",
   "execution_count": 39,
   "metadata": {},
   "outputs": [
    {
     "data": {
      "text/plain": [
       "'Optimal'"
      ]
     },
     "execution_count": 39,
     "metadata": {},
     "output_type": "execute_result"
    }
   ],
   "source": [
    "my_lp_problem.solve()\n",
    "pulp.LpStatus[my_lp_problem.status]"
   ]
  },
  {
   "cell_type": "markdown",
   "metadata": {},
   "source": [
    "The optimal values of the decision variables that minimize $x_1$, $x_2$, $y_1$, and $y_2$ are:"
   ]
  },
  {
   "cell_type": "code",
   "execution_count": 40,
   "metadata": {},
   "outputs": [
    {
     "name": "stdout",
     "output_type": "stream",
     "text": [
      " x1* = 5.0\n",
      " y1* = 1.8697479\n",
      " x2* = 3.6806723\n",
      " y2* = 0.0\n"
     ]
    }
   ],
   "source": [
    "#Print decision variables\n",
    "print(\" x1* = {}\".format(x1.varValue))\n",
    "print(\" y1* = {}\".format(y1.varValue))\n",
    "print(\" x2* = {}\".format(x2.varValue))\n",
    "print(\" y2* = {}\".format(y2.varValue))"
   ]
  },
  {
   "cell_type": "markdown",
   "metadata": {},
   "source": [
    "Print the **objective values $Z$**:"
   ]
  },
  {
   "cell_type": "code",
   "execution_count": 41,
   "metadata": {},
   "outputs": [
    {
     "name": "stdout",
     "output_type": "stream",
     "text": [
      "59.3445381\n"
     ]
    }
   ],
   "source": [
    "#Print objective function value (max Z)\n",
    "print(pulp.value(my_lp_problem.objective))"
   ]
  },
  {
   "cell_type": "markdown",
   "metadata": {},
   "source": [
    "The minimum objective value is approximately $\\$60$ thousand."
   ]
  },
  {
   "cell_type": "code",
   "execution_count": null,
   "metadata": {},
   "outputs": [],
   "source": []
  }
 ],
 "metadata": {
  "kernelspec": {
   "display_name": "Python 3",
   "language": "python",
   "name": "python3"
  },
  "language_info": {
   "codemirror_mode": {
    "name": "ipython",
    "version": 3
   },
   "file_extension": ".py",
   "mimetype": "text/x-python",
   "name": "python",
   "nbconvert_exporter": "python",
   "pygments_lexer": "ipython3",
   "version": "3.7.4"
  }
 },
 "nbformat": 4,
 "nbformat_minor": 2
}
