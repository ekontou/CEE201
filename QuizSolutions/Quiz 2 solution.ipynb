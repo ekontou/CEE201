{
 "cells": [
  {
   "cell_type": "markdown",
   "metadata": {},
   "source": [
    "# QUIZ 2 Solution"
   ]
  },
  {
   "cell_type": "markdown",
   "metadata": {},
   "source": [
    "## Problem 1"
   ]
  },
  {
   "cell_type": "code",
   "execution_count": 1,
   "metadata": {},
   "outputs": [],
   "source": [
    "def Present(F,i,n):\n",
    "    # Your code:\n",
    "    result = F/(1+i)**n\n",
    "    return result"
   ]
  },
  {
   "cell_type": "markdown",
   "metadata": {},
   "source": [
    "## Problem 2"
   ]
  },
  {
   "cell_type": "code",
   "execution_count": 1,
   "metadata": {},
   "outputs": [],
   "source": [
    "def EffectiveInterestRate(r_p,m):\n",
    "\n",
    "    # Your code :\n",
    "    i_p = (1+r_p/m)**m-1\n",
    "\n",
    "    return i_p\n",
    "\n",
    "# now call the function to calculate the effective interest rate\n",
    "# remember to pass the  values of the r_p and m (as given in the problem statement)\n",
    "\n",
    "# Your code :\n",
    "r_p = 0.07\n",
    "m = 12\n",
    "result = EffectiveInterestRate(r_p,m)"
   ]
  },
  {
   "cell_type": "markdown",
   "metadata": {},
   "source": [
    "## Problem 3"
   ]
  },
  {
   "cell_type": "markdown",
   "metadata": {},
   "source": [
    "Linear programming for a profit objective function is maximization.\n",
    "The constraints are maximum working hours for each process: making parts, assembling them, and polishing, respectively:\n",
    "\\begin{equation}\n",
    "2x_1+3x_2+2.5x_3 \\leq 6500\n",
    "\\end{equation}\n",
    "\\begin{equation}\n",
    "x_1+2.5x_2+3x_3 \\leq 3000\n",
    "\\end{equation}\n",
    "\\begin{equation}\n",
    "2x_1+1.5x_2+2.5x_3 \\leq 5500\n",
    "\\end{equation}\n",
    "\\begin{equation} x_1,x_2, x_3 \\geq 0 \\end{equation}\n",
    "The last constraint shows that all the variables must be non-negative as production cannot be negative."
   ]
  },
  {
   "cell_type": "markdown",
   "metadata": {},
   "source": [
    "# Problem 4"
   ]
  },
  {
   "cell_type": "markdown",
   "metadata": {},
   "source": [
    "## (4.a)\n",
    "Variables reperesent the number of TVs produced monthly. The monthly production is bounded by market demands. So 75 inch TV is denoted by $X_1$ with $0\\leq X_1\\leq 20$ and 65 inch TV is denoted by $X_2$ with $0\\leq X_2\\leq 15$. Also, the working hours for 75 and 65 inch TVs are 25 and 18 hours per month, respectively. The maximum available working hours for the company is 1000, which is formulated as the following constraint: $25X_1+18X_2\\leq 1000$.\n",
    "\n",
    "## (4.b)\n",
    "Now let $C$ be the commercial cost. If spending 30 $\\$$ for commercials increases the demand by 1 and 2 for 75 and 65 inch TVs, respectively, then constraints become:$0\\leq X_1\\leq 20+C/30$ and $0\\leq X_2\\leq 15+2C/30$ where $C\\leq 420$ as assumed in the problem. The constraint for working hours, i.e. $25X_1+18X_2\\leq 1000$, is not changed."
   ]
  },
  {
   "cell_type": "markdown",
   "metadata": {},
   "source": [
    "# Problem 5"
   ]
  },
  {
   "cell_type": "markdown",
   "metadata": {},
   "source": [
    "## (5.1)"
   ]
  },
  {
   "cell_type": "markdown",
   "metadata": {},
   "source": [
    "For a maximum usage of resources, we assume equality constraints. For water usage we have:\n",
    "\\begin{equation}\n",
    "3r+c=120\n",
    "\\end{equation}\n",
    "and for land usage we have\n",
    "\\begin{equation}\n",
    "r+c=100\n",
    "\\end{equation}\n",
    "which gives $r=10$ and $c=90$ where $r$ and $c$ are the area of rice and corn in h, respectively.\n",
    "The optimal profit is $P = 10\\times 3+ 90 \\times 2 = 210$."
   ]
  },
  {
   "cell_type": "markdown",
   "metadata": {},
   "source": [
    "## (5.2)"
   ]
  },
  {
   "cell_type": "markdown",
   "metadata": {},
   "source": [
    "The shadow price for land is the solution of the system of the following equations:\n",
    "\\begin{equation}\n",
    "3r+c=120\n",
    "\\end{equation}\n",
    "\\begin{equation}\n",
    "r+c=101\n",
    "\\end{equation}\n",
    "which results in $r=9.5$ and $c=91.5$ and $P = 9.5\\times 3+ 91.5 \\times 2 = 211.5$. So the profit is increased by 1.5 as we increase the land resource by one unit.\n",
    "\n",
    "The shadow price for water is the solution of the system of the following equations:\n",
    "\\begin{equation}\n",
    "3r+c=121\n",
    "\\end{equation}\n",
    "\\begin{equation}\n",
    "r+c=100\n",
    "\\end{equation}\n",
    "which results in $r=10.5$ and $c=89.5$ and $P = 10.5\\times 3+ 89.5 \\times 2 = 210.5$. So the profit is increased by 0.5 as we increase the water resource by one unit."
   ]
  },
  {
   "cell_type": "code",
   "execution_count": null,
   "metadata": {},
   "outputs": [],
   "source": []
  }
 ],
 "metadata": {
  "kernelspec": {
   "display_name": "Python 3",
   "language": "python",
   "name": "python3"
  },
  "language_info": {
   "codemirror_mode": {
    "name": "ipython",
    "version": 3
   },
   "file_extension": ".py",
   "mimetype": "text/x-python",
   "name": "python",
   "nbconvert_exporter": "python",
   "pygments_lexer": "ipython3",
   "version": "3.7.4"
  }
 },
 "nbformat": 4,
 "nbformat_minor": 2
}
