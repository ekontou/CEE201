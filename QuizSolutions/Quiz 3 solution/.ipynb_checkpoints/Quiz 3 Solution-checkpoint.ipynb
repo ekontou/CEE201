{
 "cells": [
  {
   "cell_type": "markdown",
   "metadata": {},
   "source": [
    "# QUIZ 3 Solution"
   ]
  },
  {
   "cell_type": "markdown",
   "metadata": {},
   "source": [
    "## Problem 1\n",
    "\n",
    "<img src=\"fig1.png\">\n",
    "\n",
    "## (1.a)\n",
    "The objective function is the sum of all decision variables mulitplied by corresponding weights. In this problem it becomes:\n",
    "$\\min 6x_{12}+2x_{13}+10x_{14}+5x_{24}+4x_{25}+7x_{32}+3x_{35}+8x_{36}+4x_{47}+3x_{54}+10x_{57}+3x_{67}$.\n",
    "\n",
    "## (2.a)\n",
    "Decision variables are binary, i.e. they are either zero or one. So among all links exiting vertex (1), only one of them is on the shortest path and equals one and the others are zero. So we have $x_{12}+x_{13}+x_{14}=1$ as a constraint."
   ]
  },
  {
   "cell_type": "markdown",
   "metadata": {},
   "source": [
    "## Problem 2\n",
    "<img src=\"fig2.png\">\n",
    "The conservation constraint explains that the sum of inflows must equal the sum of outflows.\n",
    "Therefore, for vertex (4) we have: $160=x_{42}+x_{43}+x_{45}-x_{24}-x_{34}-x_{54}$."
   ]
  },
  {
   "cell_type": "markdown",
   "metadata": {},
   "source": [
    "## Problem 3\n",
    "In transhipment, intermediate nodes are also allowed, in addition to origins and destinations. So the correct answer includes all of them."
   ]
  },
  {
   "cell_type": "markdown",
   "metadata": {},
   "source": [
    "## Problem 4\n",
    "<img src=\"fig3.png\">\n",
    "\n",
    "## (4.1)\n",
    "Points A, B, and E cannot be replaced with any other point whose objective values are improved at all fronts. Therefore, they are noninferior.\n",
    "\n",
    "## (4.2)\n",
    "Points D and C are performing worse compared to A and B points respectively, considering all four objective functions outcomes. Thus, D is dominated by A and C is dominated by B."
   ]
  },
  {
   "cell_type": "markdown",
   "metadata": {},
   "source": [
    "## Problem 5\n",
    "Consider four cases for objective functions:\n",
    "\n",
    "$\\min x_1$ and $\\min x_2$: B and C are potential solutions\n",
    "\n",
    "$\\min x_1$ and $\\max x_2$: A and B are potential solutions\n",
    "\n",
    "$\\max x_1$ and $\\min x_2$: C and D are potential solutions\n",
    "\n",
    "$\\max x_1$ and $\\max x_2$: Unbounded points are potential solutions\n",
    "\n",
    "So all of the points are potential solutions."
   ]
  },
  {
   "cell_type": "markdown",
   "metadata": {},
   "source": [
    "## Problem 6\n",
    "<img src=\"fig4.png\">\n",
    "\n",
    "## (6.a)\n",
    "\n",
    "According to the table, the value of $z_1$ for point B is the minimum objective function value. The corresponding zero slack variables are $s_2$ and $s_3$ which means that the second and third constraints are binding.\n",
    "\n",
    "## (6.b)\n",
    "<img src=\"fig5.png\">"
   ]
  },
  {
   "cell_type": "markdown",
   "metadata": {},
   "source": [
    "## Problem 7\n",
    "\n",
    "Definition: \n",
    "<br> The **shadow price** for the i-th constraint of a linear program is the amount by which the optimal z-value of the objective function is improved, if the right hand side of the i-th constraint is increased by 1."
   ]
  },
  {
   "cell_type": "code",
   "execution_count": null,
   "metadata": {},
   "outputs": [],
   "source": []
  }
 ],
 "metadata": {
  "kernelspec": {
   "display_name": "Python 3",
   "language": "python",
   "name": "python3"
  },
  "language_info": {
   "codemirror_mode": {
    "name": "ipython",
    "version": 3
   },
   "file_extension": ".py",
   "mimetype": "text/x-python",
   "name": "python",
   "nbconvert_exporter": "python",
   "pygments_lexer": "ipython3",
   "version": "3.7.4"
  }
 },
 "nbformat": 4,
 "nbformat_minor": 2
}
