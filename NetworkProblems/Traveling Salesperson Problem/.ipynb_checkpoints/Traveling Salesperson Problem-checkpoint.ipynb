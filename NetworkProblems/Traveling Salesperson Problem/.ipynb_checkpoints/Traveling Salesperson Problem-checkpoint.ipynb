{
 "cells": [
  {
   "cell_type": "markdown",
   "metadata": {},
   "source": [
    "# Traveling Salesman Problem"
   ]
  },
  {
   "cell_type": "markdown",
   "metadata": {},
   "source": [
    "Traveling Salesmen Problem, shorted as TSP, is a typical transportation problem. The goal is to find a route that travels through all the cities and return to the point of departure with minumum cost. "
   ]
  },
  {
   "cell_type": "markdown",
   "metadata": {},
   "source": [
    "## Example 1\n",
    "### Problem Statement\n",
    "In this problem, we are goingto find a solution of the route that start from one node and covers all the node and go back to that node, with minimum distance. The distance from node $i$ to node $j$ is $c_{ij}$, and the position of each node are listed in the table. **What is the length of the TSP solution?**"
   ]
  },
  {
   "cell_type": "markdown",
   "metadata": {},
   "source": [
    "\n",
    "<img src=\"./TSP.png\" style=\"zoom:60%\" />"
   ]
  },
  {
   "cell_type": "markdown",
   "metadata": {},
   "source": [
    "### Decision Variables \n",
    "$x_{ij}$ is either 0 or 1, indicates which path to go  \n",
    "$x_{12}$ = whether or not go through the path from node $1$ to node $2$  \n",
    "$x_{21}$ = whether or not go through the path from node $2$ to node $1$  \n",
    "$x_{13}$ = whether or not go through the path from node $1$ to node $3$  \n",
    "$x_{31}$ = whether or not go through the path from node $3$ to node $1$  \n",
    "$x_{14}$ = whether or not go through the path from node $1$ to node $4$  \n",
    "$x_{41}$ = whether or not go through the path from node $4$ to node $1$  \n",
    "$x_{23}$ = whether or not go through the path from node $2$ to node $3$  \n",
    "$x_{32}$ = whether or not go through the path from node $3$ to node $2$   \n",
    "$x_{24}$ = whether or not go through the path from node $2$ to node $4$   \n",
    "$x_{42}$ = whether or not go through the path from node $4$ to node $2$  \n",
    "$x_{34}$ = whether or not go through the path from node $3$ to node $4$  \n",
    "$x_{43}$ = whether or not go through the path from node $4$ to node $3$  "
   ]
  },
  {
   "cell_type": "markdown",
   "metadata": {},
   "source": [
    "### Objective function\n",
    "$\\min \\sum x_{ij}*c_{ij}$"
   ]
  },
  {
   "cell_type": "markdown",
   "metadata": {},
   "source": [
    "### Constraints\n",
    "- Only one trip going out of each city\n",
    "\n",
    "City 1: $x_{12}+x_{13}+x_{14} = 1$  \n",
    "City 2: $x_{21}+x_{23}+x_{24} = 1$  \n",
    "City 3: $x_{31}+x_{32}+x_{34} = 1$  \n",
    "City 4: $x_{41}+x_{42}+x_{43} = 1$  \n",
    "\n",
    "\n",
    "- Only one trip coming into each city \n",
    "\n",
    "City 1: $x_{21}+x_{31}+x_{41} = 1$  \n",
    "City 2: $x_{12}+x_{32}+x_{42} = 1$  \n",
    "City 3: $x_{13}+x_{23}+x_{43} = 1$  \n",
    "City 4: $x_{14}+x_{24}+x_{34} = 1$ \n",
    "\n",
    "\n",
    "\n",
    "- Subtour elimination constraints \n",
    "\n",
    "2 node subtour elimination: $x_{ij}+x_{ji} \\leq 1 $  \n",
    "3 node subtour eliminations: $x_{ij}+x_{jk}+x_{ki} \\leq 2 $  \n",
    "$i, j, k$ $\\in$ {1,2,3,4},  $i \\neq j \\neq k$\n",
    "\n",
    "\n",
    "\n",
    "- Integer constraints  \n",
    "\n",
    "$x_{ij}$ $\\in$ {0,1}"
   ]
  },
  {
   "cell_type": "markdown",
   "metadata": {},
   "source": [
    "### Solution with Pulp in Python"
   ]
  },
  {
   "cell_type": "code",
   "execution_count": 1,
   "metadata": {},
   "outputs": [],
   "source": [
    "# Loading packages\n",
    "import numpy as np\n",
    "from pulp import *\n",
    "import math"
   ]
  },
  {
   "cell_type": "markdown",
   "metadata": {},
   "source": [
    "Calculate distances between each centers:"
   ]
  },
  {
   "cell_type": "code",
   "execution_count": 2,
   "metadata": {},
   "outputs": [],
   "source": [
    "def Euclidean(i,j):\n",
    "    return math.sqrt((i[0]-j[0])**2+(i[1]-j[1])**2)"
   ]
  },
  {
   "cell_type": "code",
   "execution_count": 3,
   "metadata": {},
   "outputs": [],
   "source": [
    "open_centers = [(15,15),(15,8),(10,1),(30,2)]\n",
    "distances = {}\n",
    "for i in range(len(open_centers)):\n",
    "    for j in range(len(open_centers)):\n",
    "        distances[i,j]=Euclidean(open_centers[i],open_centers[j])      "
   ]
  },
  {
   "cell_type": "markdown",
   "metadata": {},
   "source": [
    "Define the problem with decision variables and constraints:"
   ]
  },
  {
   "cell_type": "code",
   "execution_count": 4,
   "metadata": {},
   "outputs": [
    {
     "name": "stderr",
     "output_type": "stream",
     "text": [
      "D:\\software\\anaconda\\lib\\site-packages\\pulp\\pulp.py:1352: UserWarning: Spaces are not permitted in the name. Converted to '_'\n",
      "  warnings.warn(\"Spaces are not permitted in the name. Converted to '_'\")\n"
     ]
    }
   ],
   "source": [
    "model = LpProblem(\"Traveling salesperson problem\",LpMinimize)\n",
    "x=LpVariable.dicts('x',((i,j) for i in range(len(open_centers)) for j in range(len(open_centers)) if i!=j), cat = 'Binary')\n",
    "\n",
    "#Adding Constraints\n",
    "for i in range(len(open_centers)):\n",
    "    model += pulp.lpSum([x[i,j] for j in range(len(open_centers)) if i!=j]) == 1\n",
    "for j in range(len(open_centers)):\n",
    "    model += pulp.lpSum([x[i,j] for i in range(len(open_centers)) if i!=j]) == 1\n",
    "\n",
    "from itertools import combinations \n",
    "for k in range(2,len(open_centers)):\n",
    "    for subtour in combinations(range(len(open_centers)),k):\n",
    "        model += pulp.lpSum(x[i,j] for i in subtour for j in subtour if i!=j) <= k-1"
   ]
  },
  {
   "cell_type": "markdown",
   "metadata": {},
   "source": [
    "Set objective function:"
   ]
  },
  {
   "cell_type": "code",
   "execution_count": 5,
   "metadata": {},
   "outputs": [
    {
     "data": {
      "text/plain": [
       "1"
      ]
     },
     "execution_count": 5,
     "metadata": {},
     "output_type": "execute_result"
    }
   ],
   "source": [
    "#Objective Function\n",
    "model += pulp.lpSum([distances[i,j]*x[i,j] for i in range(len(open_centers)) for j in range(len(open_centers)) if i!=j])\n",
    "model.solve()"
   ]
  },
  {
   "cell_type": "markdown",
   "metadata": {},
   "source": [
    "Show the optimal route and cost:"
   ]
  },
  {
   "cell_type": "code",
   "execution_count": 6,
   "metadata": {},
   "outputs": [
    {
     "name": "stdout",
     "output_type": "stream",
     "text": [
      "Traveling_salesperson_problem:\n",
      "MINIMIZE\n",
      "7.0*x_(0,_1) + 14.866068747318506*x_(0,_2) + 19.849433241279208*x_(0,_3) + 7.0*x_(1,_0) + 8.602325267042627*x_(1,_2) + 16.15549442140351*x_(1,_3) + 14.866068747318506*x_(2,_0) + 8.602325267042627*x_(2,_1) + 20.024984394500787*x_(2,_3) + 19.849433241279208*x_(3,_0) + 16.15549442140351*x_(3,_1) + 20.024984394500787*x_(3,_2) + 0.0\n",
      "SUBJECT TO\n",
      "_C1: x_(0,_1) + x_(0,_2) + x_(0,_3) = 1\n",
      "\n",
      "_C2: x_(1,_0) + x_(1,_2) + x_(1,_3) = 1\n",
      "\n",
      "_C3: x_(2,_0) + x_(2,_1) + x_(2,_3) = 1\n",
      "\n",
      "_C4: x_(3,_0) + x_(3,_1) + x_(3,_2) = 1\n",
      "\n",
      "_C5: x_(1,_0) + x_(2,_0) + x_(3,_0) = 1\n",
      "\n",
      "_C6: x_(0,_1) + x_(2,_1) + x_(3,_1) = 1\n",
      "\n",
      "_C7: x_(0,_2) + x_(1,_2) + x_(3,_2) = 1\n",
      "\n",
      "_C8: x_(0,_3) + x_(1,_3) + x_(2,_3) = 1\n",
      "\n",
      "_C9: x_(0,_1) + x_(1,_0) <= 1\n",
      "\n",
      "_C10: x_(0,_2) + x_(2,_0) <= 1\n",
      "\n",
      "_C11: x_(0,_3) + x_(3,_0) <= 1\n",
      "\n",
      "_C12: x_(1,_2) + x_(2,_1) <= 1\n",
      "\n",
      "_C13: x_(1,_3) + x_(3,_1) <= 1\n",
      "\n",
      "_C14: x_(2,_3) + x_(3,_2) <= 1\n",
      "\n",
      "_C15: x_(0,_1) + x_(0,_2) + x_(1,_0) + x_(1,_2) + x_(2,_0) + x_(2,_1) <= 2\n",
      "\n",
      "_C16: x_(0,_1) + x_(0,_3) + x_(1,_0) + x_(1,_3) + x_(3,_0) + x_(3,_1) <= 2\n",
      "\n",
      "_C17: x_(0,_2) + x_(0,_3) + x_(2,_0) + x_(2,_3) + x_(3,_0) + x_(3,_2) <= 2\n",
      "\n",
      "_C18: x_(1,_2) + x_(1,_3) + x_(2,_1) + x_(2,_3) + x_(3,_1) + x_(3,_2) <= 2\n",
      "\n",
      "VARIABLES\n",
      "0 <= x_(0,_1) <= 1 Integer\n",
      "0 <= x_(0,_2) <= 1 Integer\n",
      "0 <= x_(0,_3) <= 1 Integer\n",
      "0 <= x_(1,_0) <= 1 Integer\n",
      "0 <= x_(1,_2) <= 1 Integer\n",
      "0 <= x_(1,_3) <= 1 Integer\n",
      "0 <= x_(2,_0) <= 1 Integer\n",
      "0 <= x_(2,_1) <= 1 Integer\n",
      "0 <= x_(2,_3) <= 1 Integer\n",
      "0 <= x_(3,_0) <= 1 Integer\n",
      "0 <= x_(3,_1) <= 1 Integer\n",
      "0 <= x_(3,_2) <= 1 Integer\n",
      "\n",
      "X =\n",
      " [[0. 0. 0. 1.]\n",
      " [1. 0. 0. 0.]\n",
      " [0. 1. 0. 0.]\n",
      " [0. 0. 1. 0.]]\n",
      "Optimal objective value: 55.47674290282262\n"
     ]
    }
   ],
   "source": [
    "X = np.zeros((len(open_centers))*(len(open_centers)))\n",
    "i = 1\n",
    "X[0]=0\n",
    "for variable in model.variables():\n",
    "    #print (\"{} = {}\".format(variable.name, variable.varValue))\n",
    "    X[i]= variable.varValue\n",
    "    i += 1\n",
    "    if i%(len(open_centers)+1)==0:\n",
    "        X[i]=0\n",
    "        i += 1\n",
    "X = np.reshape(X,((len(open_centers)),(len(open_centers))))\n",
    "print(model)\n",
    "print('X =\\n', X)\n",
    "print ('Optimal objective value:',value(model.objective))"
   ]
  },
  {
   "cell_type": "markdown",
   "metadata": {},
   "source": [
    "Therefore, the optimal route is from 4-1-2-3-4, with the total distance of 55.4767."
   ]
  },
  {
   "cell_type": "markdown",
   "metadata": {},
   "source": [
    "### Method 2: Solve with networkX  "
   ]
  },
  {
   "cell_type": "code",
   "execution_count": 7,
   "metadata": {},
   "outputs": [],
   "source": [
    "import networkx as nx\n",
    "import numpy as np\n",
    "import matplotlib.pyplot as plt\n",
    "import math\n",
    "import random"
   ]
  },
  {
   "cell_type": "markdown",
   "metadata": {},
   "source": [
    "There presents a method to solve the TSP problem with $Ant$ $Clony$ $Optimization$, and then visualize the solution with networkX."
   ]
  },
  {
   "cell_type": "code",
   "execution_count": 8,
   "metadata": {},
   "outputs": [],
   "source": [
    "def ACOTSP(D, ant_place='nbyn', delta_tau_cal='yz'):\n",
    "    \n",
    "    # count the number of node\n",
    "    n = D.shape[0]\n",
    "\n",
    "    # Input of parameters about the ant colony algoritmn\n",
    "    nc_max = 500  # maximum iteration times\n",
    "    m = math.ceil(0.7 * n)  # the amount of ants\\\n",
    "    alpha = 1  # Heuristic factor\n",
    "    beta = 5  # Expectation factor\n",
    "    rho = 0.6  # Information loss factor\n",
    "    Q = 100  # Information enhanced factor\n",
    "    tau = np.ones([n, n])  # Information matrix\n",
    "    r_best = np.zeros([nc_max, n + 1])  # Optimal route in each iteration\n",
    "    l_best = [math.inf] * nc_max  # Length of optimal route in each iteration\n",
    "    l_ave = [math.inf] * nc_max  # Average length of route in each iteration\n",
    "\n",
    "    # The algorithmn of iteration\n",
    "\n",
    "    for nc in range(1, nc_max + 1):\n",
    "\n",
    "        # Place m ant on n nodes\n",
    "        ## Method 1：everytime, place one ant on one of the n nodes \n",
    "        if ant_place == '1by1':\n",
    "            start_point = [random.sample(range(n), 1)[0] for i in range(m)]\n",
    "\n",
    "        ## Method 2：Everytime, place m ants on n nodes, each nodes just have one ant\n",
    "        elif ant_place == 'nbyn':\n",
    "            start_point = []\n",
    "            for i in range(math.ceil(m / n)):\n",
    "                start_point += random.sample(range(n), n)\n",
    "            start_point = start_point[:m]\n",
    "        else:\n",
    "            print('Error in placing the ant')\n",
    "            return\n",
    "\n",
    "        # Analysis on each ant\n",
    "        delta_tau = np.zeros([n, n])  # Information matrix\n",
    "        l_route = 0  # record the total length traveled by m ants, for the calculation of average length\n",
    "        for ant in range(m):\n",
    "\n",
    "            # Generate the route by current ant\n",
    "            tabu = [start_point[ant]]  # Initialize the route of the current ant\n",
    "            for i in range(n - 1):\n",
    "                feasible_point = [point for point in range(n) if point not in tabu]  \n",
    "                prob = [(tau[tabu[-1], point] ** alpha) * ((1 / D[tabu[-1], point]) ** beta)\n",
    "                        for point in feasible_point]\n",
    "                prob /= sum(prob)  \n",
    "                prob = list(np.cumsum(prob).astype('float'))\n",
    "                Rand = random.random()  # Random for the next node\n",
    "                tabu.append(feasible_point[[k > Rand for k in prob].index(True)])\n",
    "            tabu.append(tabu[0])  # establish a loop\n",
    "\n",
    "            # Calculate the length of the route\n",
    "            ll_route = 0\n",
    "            for i in range(n):\n",
    "                ll_route += D[tabu[i], tabu[i + 1]]\n",
    "            l_route += ll_route  # Add up all the route length of all ants\n",
    "            if ll_route < l_best[nc - 1]:\n",
    "                l_best[nc - 1] = ll_route  # Length of the optimal route\n",
    "                r_best[nc - 1] = tabu  # Optimal route       \n",
    "\n",
    "\n",
    "    # print the optimal route and the corresponding length\n",
    "    ind = l_best.index(min(l_best))\n",
    "    text = 'Best Route: '\n",
    "    for i in range(n + 1):\n",
    "        text += (str(r_best[ind, i]) + '→')\n",
    "    text = text[:-1] + ', the length is: ' + str(l_best[ind])\n",
    "    print(text)"
   ]
  },
  {
   "cell_type": "code",
   "execution_count": 9,
   "metadata": {},
   "outputs": [
    {
     "name": "stdout",
     "output_type": "stream",
     "text": [
      "[[ 0.          7.         14.86606875 19.84943324]\n",
      " [ 7.          0.          8.60232527 16.15549442]\n",
      " [14.86606875  8.60232527  0.         20.02498439]\n",
      " [19.84943324 16.15549442 20.02498439  0.        ]]\n",
      "Best Route: 2.0→1.0→0.0→3.0→2.0, the length is: 55.47674290282262\n"
     ]
    }
   ],
   "source": [
    "open_centers = [(15,15),(15,8),(10,1),(30,2)]\n",
    "distances = np.zeros((4,4))\n",
    "for i in range(len(open_centers)):\n",
    "    for j in range(len(open_centers)):\n",
    "        distances[i,j]=Euclidean(open_centers[i],open_centers[j])     \n",
    "print(distances)\n",
    "\n",
    "ACOTSP(distances)"
   ]
  },
  {
   "cell_type": "markdown",
   "metadata": {},
   "source": [
    "The result is consistent with the result from method1."
   ]
  },
  {
   "cell_type": "code",
   "execution_count": 10,
   "metadata": {},
   "outputs": [],
   "source": [
    "G = nx.Graph()\n",
    "G.add_edge(1,2)\n",
    "G.add_edge(1,3)\n",
    "G.add_edge(1,4)\n",
    "G.add_edge(2,3)\n",
    "G.add_edge(2,4)\n",
    "G.add_edge(3,4)\n",
    "G.node[1]['pos']=(15,15)\n",
    "G.node[2]['pos']=(15,8)\n",
    "G.node[3]['pos']=(10,1)\n",
    "G.node[4]['pos']=(30,2)\n",
    "node_pos = nx.get_node_attributes(G,'pos')\n",
    "arc_cost = nx.get_edge_attributes(G,'weight')\n",
    "arc_cap  = nx.get_edge_attributes(G,'capacity')"
   ]
  },
  {
   "cell_type": "code",
   "execution_count": 11,
   "metadata": {},
   "outputs": [
    {
     "name": "stderr",
     "output_type": "stream",
     "text": [
      "D:\\software\\anaconda\\lib\\site-packages\\networkx\\drawing\\nx_pylab.py:579: MatplotlibDeprecationWarning: \n",
      "The iterable function was deprecated in Matplotlib 3.1 and will be removed in 3.3. Use np.iterable instead.\n",
      "  if not cb.iterable(width):\n"
     ]
    },
    {
     "data": {
      "image/png": "[encoded data removed]",
      "text/plain": [
       "<Figure size 432x288 with 1 Axes>"
      ]
     },
     "metadata": {},
     "output_type": "display_data"
    }
   ],
   "source": [
    "nx.draw_networkx(G,node_pos,node_color='grey',node_size=450)\n",
    "#Remove the axis \n",
    "plt.axis('off')\n",
    "plt.show()"
   ]
  },
  {
   "cell_type": "markdown",
   "metadata": {},
   "source": [
    "**Reference:** Ant colony optimization algorithms. *Wikipedia*. https://en.wikipedia.org/wiki/Ant_colony_optimization_algorithms"
   ]
  },
  {
   "cell_type": "code",
   "execution_count": null,
   "metadata": {},
   "outputs": [],
   "source": []
  }
 ],
 "metadata": {
  "kernelspec": {
   "display_name": "Python 3",
   "language": "python",
   "name": "python3"
  },
  "language_info": {
   "codemirror_mode": {
    "name": "ipython",
    "version": 3
   },
   "file_extension": ".py",
   "mimetype": "text/x-python",
   "name": "python",
   "nbconvert_exporter": "python",
   "pygments_lexer": "ipython3",
   "version": "3.7.4"
  }
 },
 "nbformat": 4,
 "nbformat_minor": 2
}
