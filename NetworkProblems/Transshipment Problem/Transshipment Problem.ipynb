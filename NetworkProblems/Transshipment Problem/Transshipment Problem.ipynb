{
 "cells": [
  {
   "cell_type": "markdown",
   "metadata": {},
   "source": [
    "# Transshipment Problem"
   ]
  },
  {
   "cell_type": "markdown",
   "metadata": {},
   "source": [
    "Transshipment problem is more general than transportation problems. In transshipment problem, nodes are either supply, demand, or transition nodes. Not all the nodes are connected, and links are undirected."
   ]
  },
  {
   "cell_type": "markdown",
   "metadata": {},
   "source": [
    "## Example 1\n",
    "### Problem statement\n",
    "In the network, there are supply at node 1, node 3 and node 4, and the demand locates at node 2 and node 5. Each node are linked, $x_{ij}$ amount of goods can be transported from node$i$ to node$j$, each link has different transportation cost $c_{ij}$. **Meet the demand with minimum transportation cost in the network.** Note that links without direction can be used in a bidirectional manner."
   ]
  },
  {
   "cell_type": "markdown",
   "metadata": {},
   "source": [
    "<img src=\"./transshipment_prob.jpg\" style=\"zoom:60%\" />"
   ]
  },
  {
   "cell_type": "markdown",
   "metadata": {},
   "source": [
    "### Decision Variables\n",
    "$x_{12}$ = the amount of goods transported from node $1$ to node $2$  \n",
    "$x_{21}$ = the amount of goods transported from node $2$ to node $1$  \n",
    "$x_{15}$ = the amount of goods transported from node $1$ to node $5$  \n",
    "$x_{51}$ = the amount of goods transported from node $5$ to node $1$   \n",
    "$x_{23}$ = the amount of goods transported from node $2$ to node $3$  \n",
    "$x_{32}$ = the amount of goods transported from node $3$ to node $2$   \n",
    "$x_{24}$ = the amount of goods transported from node $2$ to node $4$   \n",
    "$x_{42}$ = the amount of goods transported from node $4$ to node $2$  \n",
    "$x_{25}$ = the amount of goods transported from node $2$ to node $5$  \n",
    "$x_{52}$ = the amount of goods transported from node $5$ to node $2$   \n",
    "$x_{34}$ = the amount of goods transported from node $3$ to node $4$  \n",
    "$x_{43}$ = the amount of goods transported from node $4$ to node $3$  \n",
    "$x_{45}$ = the amount of goods transported from node $4$ to node $5$  \n",
    "$x_{54}$ = the amount of goods transported from node $5$ to node $4$ "
   ]
  },
  {
   "cell_type": "markdown",
   "metadata": {},
   "source": [
    "### Objective Function"
   ]
  },
  {
   "cell_type": "markdown",
   "metadata": {},
   "source": [
    "$\\min \\sum c_{ij} \\cdot x_{ij}$ $=10x_{12}+10x_{21}+20x_{15}+20x_{51}+10x_{23}+10x_{32}+10x_{24}+10x_{42}+20x_{25}+20x_{52}+10x_{34}+10x_{43}+20x_{45}+20x_{54}$"
   ]
  },
  {
   "cell_type": "markdown",
   "metadata": {},
   "source": [
    "### Constraints\n",
    "**Supply**  \n",
    "$x_{12}+x_{15} \\leq 100+x_{21}+x_{51}$  \n",
    "$x_{32}+x_{34} \\leq 40+x_{23}+x_{43}$  \n",
    "$x_{12}+x_{15} \\leq 160+x_{24}+x_{34}+x_{54}$  \n",
    "**Demand**  \n",
    "$x_{12}+x_{52}+x_{42}+x_{32} \\geq 200+x_{21}+x_{25}+x_{24}+x_{23}$  \n",
    "$x_{15}+x_{25}+x_{45} \\geq 100+x_{51}+x_{52}+x_{54}$  "
   ]
  },
  {
   "cell_type": "markdown",
   "metadata": {},
   "source": [
    "### Method 1 : Solution by Python Pulp "
   ]
  },
  {
   "cell_type": "code",
   "execution_count": 1,
   "metadata": {},
   "outputs": [],
   "source": [
    "import numpy as np\n",
    "import matplotlib.pyplot as plt\n",
    "%matplotlib inline\n",
    "import pulp"
   ]
  },
  {
   "cell_type": "code",
   "execution_count": 2,
   "metadata": {},
   "outputs": [],
   "source": [
    "# Create a list of all supply nodes (supply cities)\n",
    "Supply= ['1','3','4']\n",
    "\n",
    "# Create a distionary for the number of units of supply for each supply city\n",
    "supply = {'1':100,\n",
    "         '3':40,\n",
    "         '4':160}\n",
    "\n",
    "# Create a list of all demand nodes (demand cities)\n",
    "Demand=['2','5']\n",
    "\n",
    "# Create a dictionary for the number of units of demand for each demand city\n",
    "demand = {'2':200,\n",
    "          '5':100}"
   ]
  },
  {
   "cell_type": "code",
   "execution_count": 3,
   "metadata": {},
   "outputs": [],
   "source": [
    "cost = {'1':{'2':10,'5':20},\n",
    "        '3':{'2':10,'5':30},\n",
    "        '4':{'2':10,'3':10,'5':20}}"
   ]
  },
  {
   "cell_type": "code",
   "execution_count": 4,
   "metadata": {},
   "outputs": [],
   "source": [
    "##### Set problem variables \n",
    "# Create the problem variable to contain the problem data\n",
    "prob = pulp.LpProblem ('Transshipment_Problem', pulp.LpMinimize)\n",
    "# Create a list of tuples containing all the possible routes for transport\n",
    "Routes = [(s,d) for s in Supply for d in Demand]\n",
    "# A dictionary called route_vars is created to contain the referenced variables (the routes)\n",
    "route_vars = pulp.LpVariable.dicts('Route',(Supply,Demand),0,None,pulp.LpInteger)"
   ]
  },
  {
   "cell_type": "code",
   "execution_count": 5,
   "metadata": {},
   "outputs": [],
   "source": [
    "# The objective function is added to prob first\n",
    "prob += pulp.lpSum([route_vars[s][d]*cost[s][d] for s in Supply for d in Demand])"
   ]
  },
  {
   "cell_type": "code",
   "execution_count": 6,
   "metadata": {},
   "outputs": [],
   "source": [
    "# The supply maximum constraints are added to prob for each supply node \n",
    "for s in Supply:\n",
    "    prob += pulp.lpSum([route_vars[s][d] for d in Demand]) <= supply[s] \n",
    "for d in Demand:      \n",
    "    # The supply maximum constraints are added to prob for each demand node \n",
    "    prob += pulp.lpSum([route_vars[s][d] for s in Supply]) >= demand[d]"
   ]
  },
  {
   "cell_type": "code",
   "execution_count": 7,
   "metadata": {},
   "outputs": [
    {
     "data": {
      "text/plain": [
       "'Optimal'"
      ]
     },
     "execution_count": 7,
     "metadata": {},
     "output_type": "execute_result"
    }
   ],
   "source": [
    "# Solve problem\n",
    "prob.solve()\n",
    "pulp.LpStatus[prob.status]"
   ]
  },
  {
   "cell_type": "code",
   "execution_count": 8,
   "metadata": {},
   "outputs": [
    {
     "name": "stdout",
     "output_type": "stream",
     "text": [
      "The total cost in $ is 4000.0\n"
     ]
    }
   ],
   "source": [
    "total_cost = pulp.value(prob.objective)\n",
    "\n",
    "print(\"The total cost in $ is\",total_cost)"
   ]
  },
  {
   "cell_type": "code",
   "execution_count": 9,
   "metadata": {},
   "outputs": [
    {
     "name": "stdout",
     "output_type": "stream",
     "text": [
      "Route_1_2 = 0.0\n",
      "Route_1_5 = 100.0\n",
      "Route_3_2 = 40.0\n",
      "Route_3_5 = 0.0\n",
      "Route_4_2 = 160.0\n",
      "Route_4_5 = 0.0\n"
     ]
    }
   ],
   "source": [
    "for v in prob.variables():\n",
    "    print(v.name,\"=\",v.varValue)"
   ]
  },
  {
   "cell_type": "markdown",
   "metadata": {},
   "source": [
    "### Method 2: Solution by Python NetworkX"
   ]
  },
  {
   "cell_type": "code",
   "execution_count": 10,
   "metadata": {},
   "outputs": [],
   "source": [
    "import networkx as nx \n",
    "import matplotlib.pyplot as plt"
   ]
  },
  {
   "cell_type": "code",
   "execution_count": 11,
   "metadata": {},
   "outputs": [],
   "source": [
    "G1=nx.DiGraph()"
   ]
  },
  {
   "cell_type": "code",
   "execution_count": 12,
   "metadata": {},
   "outputs": [
    {
     "name": "stdout",
     "output_type": "stream",
     "text": [
      "4000 {1: {2: 32, 5: 68}, 2: {5: 0, 3: 0, 4: 0, 1: 0}, 5: {1: 0, 2: 0, 4: 0}, 3: {4: 0, 2: 40}, 4: {5: 32, 2: 128, 3: 0}}\n"
     ]
    }
   ],
   "source": [
    "list_edges = [(1,2,10) , (1,5,20) , (2,5,20) , (2,3,10) , (2,4,10) , (3,4,10) , (4,5,20),\n",
    "              (2,1,10) , (5,1,20) , (5,2,20) , (3,2,10) , (4,2,10) , (4,3,10) , (5,4,20)]\n",
    "G1.add_weighted_edges_from(list_edges)\n",
    "G1.node[2]['demand']=200\n",
    "G1.node[5]['demand']=100\n",
    "G1.node[1]['demand']=-100\n",
    "G1.node[3]['demand']=-40\n",
    "G1.node[4]['demand']=-160\n",
    "\n",
    "G1.node[1]['pos'] = (1,2)\n",
    "G1.node[2]['pos'] = (0,0)\n",
    "G1.node[3]['pos'] = (1,-2)\n",
    "G1.node[4]['pos'] = (3,-1.5)\n",
    "G1.node[5]['pos'] = (4,1)\n",
    "\n",
    "cost, flow = nx.capacity_scaling(G1)\n",
    "print(cost,flow)"
   ]
  },
  {
   "cell_type": "code",
   "execution_count": 13,
   "metadata": {},
   "outputs": [
    {
     "name": "stderr",
     "output_type": "stream",
     "text": [
      "D:\\software\\anaconda\\lib\\site-packages\\networkx\\drawing\\nx_pylab.py:579: MatplotlibDeprecationWarning: \n",
      "The iterable function was deprecated in Matplotlib 3.1 and will be removed in 3.3. Use np.iterable instead.\n",
      "  if not cb.iterable(width):\n",
      "D:\\software\\anaconda\\lib\\site-packages\\networkx\\drawing\\nx_pylab.py:676: MatplotlibDeprecationWarning: \n",
      "The iterable function was deprecated in Matplotlib 3.1 and will be removed in 3.3. Use np.iterable instead.\n",
      "  if cb.iterable(node_size):  # many node sizes\n",
      "D:\\software\\anaconda\\lib\\site-packages\\networkx\\drawing\\nx_pylab.py:585: MatplotlibDeprecationWarning: \n",
      "The iterable function was deprecated in Matplotlib 3.1 and will be removed in 3.3. Use np.iterable instead.\n",
      "  and cb.iterable(edge_color) \\\n"
     ]
    },
    {
     "data": {
      "image/png": "[encoded data removed]",
      "text/plain": [
       "<Figure size 432x288 with 1 Axes>"
      ]
     },
     "metadata": {},
     "output_type": "display_data"
    }
   ],
   "source": [
    "node_pos=nx.get_node_attributes(G1,'pos')\n",
    "edge_weight=nx.get_edge_attributes(G1,'weight')\n",
    "red_edges = G1.edges()\n",
    "node_col = ['grey']\n",
    "# If the edge is in the shortest path set it to red, else set it to white color\n",
    "edge_col = ['black' if not edge in red_edges else 'red' for edge in G1.edges()]\n",
    "# Draw the nodes\n",
    "nx.draw_networkx(G1, node_pos,node_color= node_col, node_size=450)\n",
    "# Draw the node labels\n",
    "nx.draw_networkx_labels(G1, node_pos,node_color= node_col)\n",
    "# Draw the edges\n",
    "nx.draw_networkx_edges(G1, node_pos,edge_color= edge_col)\n",
    "# Draw the edge labels\n",
    "nx.draw_networkx_edge_labels(G1, node_pos,edge_color= edge_col, edge_labels=edge_weight)\n",
    "# Remove the axis\n",
    "plt.axis('off')\n",
    "# Show the plot\n",
    "plt.show()\n",
    "G1.clear()"
   ]
  }
 ],
 "metadata": {
  "kernelspec": {
   "display_name": "Python 3",
   "language": "python",
   "name": "python3"
  },
  "language_info": {
   "codemirror_mode": {
    "name": "ipython",
    "version": 3
   },
   "file_extension": ".py",
   "mimetype": "text/x-python",
   "name": "python",
   "nbconvert_exporter": "python",
   "pygments_lexer": "ipython3",
   "version": "3.7.4"
  }
 },
 "nbformat": 4,
 "nbformat_minor": 2
}
