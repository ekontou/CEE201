{
 "cells": [
  {
   "cell_type": "markdown",
   "metadata": {},
   "source": [
    "# Transportation Problem"
   ]
  },
  {
   "cell_type": "markdown",
   "metadata": {},
   "source": [
    "The transportation problem is a typical type of linear programming problem, solved by minimizing the cost of distributing a product from M sources to N destinations. In the network, nodes are either supply or demand, and all supply nodes are connected to all demand nodes, with directed links. "
   ]
  },
  {
   "cell_type": "markdown",
   "metadata": {},
   "source": [
    "## Example 1\n",
    "#### Problem statement\n",
    "We need to find out the best decision to allocate demand of markets from warehouses. On the left side, each supply warehouse $i$ $(i=1,2,3)$ has a total supply of $s_i$, and on the right side, each demand city $j$ $(j=1,2)$ has a total demand of $d_j$. On each link, the cost for each product shipped from the supplier's warehouse $i$ to each demand city $j$ is $c_{ij}$.  \n",
    "**Identify the way to transport items from the suppliers' warehouses to demand nodes with the lowest cost.**"
   ]
  },
  {
   "cell_type": "markdown",
   "metadata": {},
   "source": [
    "<img src=\"./prob1_transp.png\" style=\"zoom:60%\" />"
   ]
  },
  {
   "cell_type": "markdown",
   "metadata": {},
   "source": [
    "#### Decision Variables \n",
    "$x_{11}$ = the amount of goods transported from supplier $1$ to demand city $1$  \n",
    "$x_{12}$ = the amount of goods transported from supplier $1$ to demand city $2$  \n",
    "$x_{21}$ = the amount of goods transported from supplier $2$ to demand city $1$  \n",
    "$x_{22}$ = the amount of goods transported from supplier $2$ to demand city $2$  \n",
    "$x_{31}$ = the amount of goods transported from supplier $3$ to demand city $1$  \n",
    "$x_{32}$ = the amount of goods transported from supplier $3$ to demand city $2$  "
   ]
  },
  {
   "cell_type": "markdown",
   "metadata": {},
   "source": [
    "### Objective Function\n",
    "$\\min \\sum c_{ij}\\cdot x_{ij}$$    = c_{11}x_{11}+c_{12}x_{12}+c_{21}x_{21}+c_{22}x_{22}+c_{31}x_{31}+c_{32}x_{32} $"
   ]
  },
  {
   "cell_type": "markdown",
   "metadata": {},
   "source": [
    "### Constraints (Supply/demand requirement)"
   ]
  },
  {
   "cell_type": "markdown",
   "metadata": {},
   "source": [
    "**Supply**  \n",
    "$x_{11}+x_{12} \\leq s_1$  \n",
    "$x_{21}+x_{22} \\leq s_2$  \n",
    "$x_{31}+x_{32} \\leq s_3$  \n",
    "**Demand**  \n",
    "$x_{11}+x_{21}+x_{31} \\geq d_1$  \n",
    "$x_{12}+x_{22}+x_{32} \\geq d_2$  \n",
    "**All Variables**  \n",
    "$x_{11},x_{12},x_{21},x_{22},x_{31},x_{32}\\geq0$"
   ]
  },
  {
   "cell_type": "markdown",
   "metadata": {},
   "source": [
    "### Method 1 : Solution by Python Pulp "
   ]
  },
  {
   "cell_type": "code",
   "execution_count": 1,
   "metadata": {},
   "outputs": [],
   "source": [
    "import pulp"
   ]
  },
  {
   "cell_type": "markdown",
   "metadata": {},
   "source": [
    "Use the information to build the number of supply and demand for supply cities and demand cities."
   ]
  },
  {
   "cell_type": "code",
   "execution_count": 2,
   "metadata": {},
   "outputs": [],
   "source": [
    "# Create a list of all supply nodes (supply cities)\n",
    "Supply_Cities= [1,2,3]\n",
    "\n",
    "# Create a distionary for the number of units of supply for each supply city\n",
    "supply = {1:100,\n",
    "         2:200,\n",
    "         3:120}\n",
    "\n",
    "# Create a list of all demand nodes (demand cities)\n",
    "Demand_Cities=[1,2]\n",
    "\n",
    "# Create a dictionary for the number of units of demand for each demand city\n",
    "demand = {1:280,\n",
    "         2:140}"
   ]
  },
  {
   "cell_type": "markdown",
   "metadata": {},
   "source": [
    "Create a list of costs of each transportation path "
   ]
  },
  {
   "cell_type": "code",
   "execution_count": 3,
   "metadata": {},
   "outputs": [],
   "source": [
    "cost = {# Demand_Cities\n",
    "        # 1 2 \n",
    "        1:{1:4,2:5},# Supply_City 1\n",
    "        2:{1:3,2:6},# Supply_City 2\n",
    "        3:{1:3,2:7} # Supply_City 3\n",
    "}"
   ]
  },
  {
   "cell_type": "markdown",
   "metadata": {},
   "source": [
    "Set problem variables"
   ]
  },
  {
   "cell_type": "code",
   "execution_count": 4,
   "metadata": {},
   "outputs": [],
   "source": [
    "# Create the problem variable to contain the problem data\n",
    "prob = pulp.LpProblem ('Transportation_Problem', pulp.LpMinimize)\n",
    "# Create a list of tuples containing all the possible routes for transport\n",
    "Routes = [(s,d) for s in Supply_Cities for d in Demand_Cities]\n",
    "# A dictionary called route_vars is created to contain the referenced variables (the routes)\n",
    "route_vars = pulp.LpVariable.dicts('Route',(Supply_Cities,Demand_Cities),0,None,pulp.LpInteger)"
   ]
  },
  {
   "cell_type": "markdown",
   "metadata": {},
   "source": [
    "The objective function is added to the variable prob using a list comprehension. Since route_vars and costs are now dictionaries (with further internal dictionaries), they can be used as if they were tables, as for (s,d) in Routes will cycle through all the combinations/links. "
   ]
  },
  {
   "cell_type": "code",
   "execution_count": 5,
   "metadata": {
    "scrolled": true
   },
   "outputs": [],
   "source": [
    "# The objective function is added to prob first\n",
    "prob += pulp.lpSum([route_vars[s][d]*cost[s][d] for s in Supply_Cities for d in Demand_Cities])"
   ]
  },
  {
   "cell_type": "markdown",
   "metadata": {},
   "source": [
    "Constraints:"
   ]
  },
  {
   "cell_type": "code",
   "execution_count": 6,
   "metadata": {},
   "outputs": [],
   "source": [
    "# The supply maximum constraints are added to prob for each supply node \n",
    "for s in Supply_Cities:\n",
    "    prob += pulp.lpSum([route_vars[s][d] for d in Demand_Cities]) <= supply[s] \n",
    "for d in Demand_Cities:      \n",
    "    # The supply maximum constraints are added to prob for each demand node \n",
    "    prob += pulp.lpSum([route_vars[s][d] for s in Supply_Cities]) >= demand[d]\n",
    "       "
   ]
  },
  {
   "cell_type": "code",
   "execution_count": 7,
   "metadata": {},
   "outputs": [
    {
     "data": {
      "text/plain": [
       "'Optimal'"
      ]
     },
     "execution_count": 7,
     "metadata": {},
     "output_type": "execute_result"
    }
   ],
   "source": [
    "# Solve problem\n",
    "prob.solve()\n",
    "pulp.LpStatus[prob.status]"
   ]
  },
  {
   "cell_type": "code",
   "execution_count": 8,
   "metadata": {},
   "outputs": [
    {
     "name": "stdout",
     "output_type": "stream",
     "text": [
      "The total cost in $ is 1580.0\n"
     ]
    }
   ],
   "source": [
    "total_cost = pulp.value(prob.objective)\n",
    "\n",
    "print(\"The total cost in $ is\",total_cost)"
   ]
  },
  {
   "cell_type": "code",
   "execution_count": 9,
   "metadata": {},
   "outputs": [
    {
     "name": "stdout",
     "output_type": "stream",
     "text": [
      "Route_1_1 = 0.0\n",
      "Route_1_2 = 100.0\n",
      "Route_2_1 = 160.0\n",
      "Route_2_2 = 40.0\n",
      "Route_3_1 = 120.0\n",
      "Route_3_2 = 0.0\n"
     ]
    }
   ],
   "source": [
    "for v in prob.variables():\n",
    "    print(v.name,\"=\",v.varValue)"
   ]
  },
  {
   "cell_type": "markdown",
   "metadata": {},
   "source": [
    "For the optimal solution, the supplier 1 will provide $100$ units to the demand city 2, and supplier 2 will provide $160$ units to demand city 1 and $40$ units to demand city 2; the supplier 3 will provide $120$ units to the demand city 1."
   ]
  },
  {
   "cell_type": "markdown",
   "metadata": {},
   "source": [
    "### Method 2 : Solution by Python NetworkX "
   ]
  },
  {
   "cell_type": "code",
   "execution_count": 9,
   "metadata": {},
   "outputs": [],
   "source": [
    "import networkx as nx"
   ]
  },
  {
   "cell_type": "code",
   "execution_count": 10,
   "metadata": {},
   "outputs": [],
   "source": [
    "import matplotlib.pyplot as plt"
   ]
  },
  {
   "cell_type": "code",
   "execution_count": 11,
   "metadata": {},
   "outputs": [],
   "source": [
    "G1 = nx.DiGraph()"
   ]
  },
  {
   "cell_type": "markdown",
   "metadata": {},
   "source": [
    "If there are further constraints on the maximum flow, we can add the capacity constraints to the network."
   ]
  },
  {
   "cell_type": "code",
   "execution_count": 12,
   "metadata": {},
   "outputs": [],
   "source": [
    "G1.add_edge(1,4,weight=4)#, capacity = 100)\n",
    "G1.add_edge(1,5,weight=5)#, capacity = 100)\n",
    "G1.add_edge(2,4,weight=3)#, capacity = 100)\n",
    "G1.add_edge(2,5,weight=6)#, capacity = 100)\n",
    "G1.add_edge(3,4,weight=3)#, capacity = 100)\n",
    "G1.add_edge(3,5,weight=7)#, capacity = 100)"
   ]
  },
  {
   "cell_type": "code",
   "execution_count": 13,
   "metadata": {},
   "outputs": [],
   "source": [
    "G1.node[1]['demand']=-100 #Supply\n",
    "G1.node[2]['demand']=-200\n",
    "G1.node[3]['demand']=-120\n",
    "G1.node[4]['demand']=280 #Demand\n",
    "G1.node[5]['demand']=140"
   ]
  },
  {
   "cell_type": "code",
   "execution_count": 14,
   "metadata": {},
   "outputs": [
    {
     "name": "stdout",
     "output_type": "stream",
     "text": [
      "The minimum cost is  1580\n",
      "The optimal flow is \n",
      "{1: {4: 0, 5: 100}, 4: {}, 5: {}, 2: {4: 160, 5: 40}, 3: {4: 120, 5: 0}}\n"
     ]
    }
   ],
   "source": [
    "cost,flow=nx.capacity_scaling(G1)\n",
    "print('The minimum cost is ', cost)\n",
    "print('The optimal flow is ')\n",
    "print(flow)\n",
    "\n",
    "optimal_flow = {}\n",
    "for i in G1.nodes():\n",
    "    for j in flow[i].keys():\n",
    "        optimal_flow[i,j] = flow[i][j]"
   ]
  },
  {
   "cell_type": "code",
   "execution_count": 15,
   "metadata": {},
   "outputs": [],
   "source": [
    "G1.node[1]['pos']=(0,2)\n",
    "G1.node[2]['pos']=(0,0)\n",
    "G1.node[3]['pos']=(0,-2)\n",
    "G1.node[4]['pos']=(3,3)\n",
    "G1.node[5]['pos']=(3,-3)\n",
    "node_pos = nx.get_node_attributes(G1,'pos')\n",
    "arc_cost = nx.get_edge_attributes(G1,'weight')\n",
    "arc_cap  = nx.get_edge_attributes(G1,'capacity')"
   ]
  },
  {
   "cell_type": "code",
   "execution_count": 17,
   "metadata": {},
   "outputs": [
    {
     "name": "stdout",
     "output_type": "stream",
     "text": [
      "The edge weights correspond to optimal flow values:\n"
     ]
    },
    {
     "name": "stderr",
     "output_type": "stream",
     "text": [
      "D:\\software\\anaconda\\lib\\site-packages\\networkx\\drawing\\nx_pylab.py:579: MatplotlibDeprecationWarning: \n",
      "The iterable function was deprecated in Matplotlib 3.1 and will be removed in 3.3. Use np.iterable instead.\n",
      "  if not cb.iterable(width):\n",
      "D:\\software\\anaconda\\lib\\site-packages\\networkx\\drawing\\nx_pylab.py:676: MatplotlibDeprecationWarning: \n",
      "The iterable function was deprecated in Matplotlib 3.1 and will be removed in 3.3. Use np.iterable instead.\n",
      "  if cb.iterable(node_size):  # many node sizes\n"
     ]
    },
    {
     "data": {
      "image/png": "[encoded data removed]",
      "text/plain": [
       "<Figure size 432x288 with 1 Axes>"
      ]
     },
     "metadata": {},
     "output_type": "display_data"
    }
   ],
   "source": [
    "nx.draw_networkx(G1,node_pos,node_color='grey',node_size=450)\n",
    "nx.draw_networkx_edge_labels(G1,node_pos,edge_labels=optimal_flow)\n",
    "#Remove the axis \n",
    "plt.axis('off')\n",
    "#Show the plot\n",
    "print('The edge weights correspond to optimal flow values:')\n",
    "plt.show()"
   ]
  }
 ],
 "metadata": {
  "kernelspec": {
   "display_name": "Python 3",
   "language": "python",
   "name": "python3"
  },
  "language_info": {
   "codemirror_mode": {
    "name": "ipython",
    "version": 3
   },
   "file_extension": ".py",
   "mimetype": "text/x-python",
   "name": "python",
   "nbconvert_exporter": "python",
   "pygments_lexer": "ipython3",
   "version": "3.7.4"
  }
 },
 "nbformat": 4,
 "nbformat_minor": 2
}
