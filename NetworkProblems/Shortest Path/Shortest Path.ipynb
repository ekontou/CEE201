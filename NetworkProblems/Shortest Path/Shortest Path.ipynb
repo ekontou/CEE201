{
 "cells": [
  {
   "cell_type": "markdown",
   "metadata": {},
   "source": [
    "# Shortest Path Template\n",
    "\n",
    "## Introduction to the shortest path problem"
   ]
  },
  {
   "cell_type": "markdown",
   "metadata": {},
   "source": [
    "The shortest path problem's goal is to figure out the shortest path from an origin node to a destination node. \n",
    "There are several inputs used toward solving such problem: \n",
    "- 1) build the network, and set the weight for each link\n",
    "- 2) formulate the objective function and add constraints to find out the shortest path \n",
    "- 3) visualize the traffic network of the shortest path"
   ]
  },
  {
   "cell_type": "markdown",
   "metadata": {},
   "source": [
    "## Problem 1\n",
    "### Problem Statement\n",
    "In the transportation network, the inflow comes from the origin Node 1, and the outflow comes out at the destination Node 6. The travel time parameters from node $i$ to node $j$ is $t_{ij}$. **What is the shortest travel time in the network from origin to destination?**"
   ]
  },
  {
   "cell_type": "markdown",
   "metadata": {},
   "source": [
    "![jupyter](./prob1.jpg)"
   ]
  },
  {
   "cell_type": "markdown",
   "metadata": {},
   "source": [
    "#### Decision Variables\n",
    "  ##### Variables of path  $x_{ij}$\n",
    "* $x_{12}$= the link from node 1 to node 2 \n",
    "* $x_{13}$= the link from node 1 to node 3\n",
    "* $x_{23}$= the link from node 2 to node 3\n",
    "* $x_{24}$= the link from node 2 to node 4\n",
    "* $x_{25}$= the link from node 2 to node 5\n",
    "* $x_{35}$= the link from node 3 to node 5\n",
    "* $x_{46}$= the link from node 4 to node 6\n",
    "* $x_{54}$= the link from node 5 to node 4\n",
    "* $x_{56}$= the link from node 5 to node 6"
   ]
  },
  {
   "cell_type": "markdown",
   "metadata": {},
   "source": [
    "### Objective function\n",
    "Minimize $Z = \\sum t_{ij}\\cdot x_{ij}$\\\n",
    "  i.e., $Z = t_{12}\\cdot x_{12}+t_{13}\\cdot x_{13}+t_{23}\\cdot x_{23}+t_{24}\\cdot x_{24}+t_{25}\\cdot x_{25}+t_{35}\\cdot x_{35}+t_{46}\\cdot x_{46}+t_{54}\\cdot x_{54}+t_{56}\\cdot x_{56}$"
   ]
  },
  {
   "cell_type": "markdown",
   "metadata": {},
   "source": [
    "#### Node constraints\n",
    "* Origin: Node 1 \\\n",
    "$ Input = x_{12}+x_{13}$\n",
    "* Destination: Node 1 \\\n",
    "$x_{46}+x_{56} = Output $\n",
    "* Node 2\\\n",
    "$x_{12}= x_{23}+ x_{24}+ x_{25}$\n",
    "* Node 3\\\n",
    "$x_{13}+ x_{23} = x_{35}$\n",
    "* Node 4\\\n",
    "$x_{24}+ x_{54} = x_{46}$\n",
    "* Node 5\\\n",
    "$x_{25}+ x_{35} = x_{54} +x_{56}$"
   ]
  },
  {
   "cell_type": "markdown",
   "metadata": {},
   "source": [
    "### Method 1 : Solution by Python Pulp Package\n",
    "Formulate the network: build the nodes and connnect each nodes with a path."
   ]
  },
  {
   "cell_type": "code",
   "execution_count": 1,
   "metadata": {},
   "outputs": [],
   "source": [
    "# Import PuLP modeler functions\n",
    "from pulp import *\n",
    "# Data for Linear Optimization Problem\n",
    "N = 6  # Number of nodes in network\n",
    "M = 2  # number of end nodes (source and sink or origin and destination)\n",
    "INT = 4 # Number of intermediate nodes\n",
    "a = range(1, N+1)\n",
    "al = range(N)\n",
    "b = range(1,N+1)\n",
    "bl = range(N)\n",
    "# Index list for decision variables x\n",
    "xindx = [(a[i],b[j]) for j in bl for i in al]\n",
    "T = INT + M # number of artificial variables (y)\n",
    "tindx = range(1, T+1)"
   ]
  },
  {
   "cell_type": "markdown",
   "metadata": {},
   "source": [
    "Add decision variables and formulate objective function of the total travel time."
   ]
  },
  {
   "cell_type": "code",
   "execution_count": 2,
   "metadata": {},
   "outputs": [],
   "source": [
    "model = LpProblem(\"Shortest_Path_Problem\",LpMinimize)\n",
    "# Decision variables\n",
    "x = LpVariable.dicts(\"X\", xindx,0,None)\n",
    "y = LpVariable.dicts(\"Y\", tindx,0,None)\n",
    "model+= 2.0*x[1,2] +4.0*x[1,3] + 4.0*x[2,4] + 1.0*x[2,3] + 2.0*x[2,5] + 10.0*x[3,5]+ 3.0*x[5,4]+2.0*x[4,6] + 2.0*x[5,6], \"Transportation cost\""
   ]
  },
  {
   "cell_type": "markdown",
   "metadata": {},
   "source": [
    "Add constraints for each node: the source node and destination node have a netflow of 1, other intermediate flow have a balanced inflow and outflow."
   ]
  },
  {
   "cell_type": "code",
   "execution_count": 3,
   "metadata": {},
   "outputs": [],
   "source": [
    "model += x[1,2] + x[1,3] -y[1] == 1,\"Source node\"\n",
    "model += x[4,6] + x[5,6] -y[2] == 1,\"Destination node\"\n",
    "model += x[1,2] - x[2,3] - x[2,4] - x[2,5] - y[3] == 0,\"Node 2\"\n",
    "model += x[1,3] - x[2,3] - x[3,5] - y[4] == 0,\"Node 3\"\n",
    "model += x[2,4] + x[5,4] - x[4,6] - y[5] == 0, \"Node 4\"\n",
    "model += x[2,5] + x[3,5] - x[5,4] - x[5,6] - y[6] == 0, \"Node 5\""
   ]
  },
  {
   "cell_type": "markdown",
   "metadata": {},
   "source": [
    "Solv the model and check the optimal status and find out the shortest path"
   ]
  },
  {
   "cell_type": "code",
   "execution_count": 4,
   "metadata": {},
   "outputs": [
    {
     "name": "stdout",
     "output_type": "stream",
     "text": [
      "Status: Optimal\n"
     ]
    }
   ],
   "source": [
    "model.solve()\n",
    "print('Status:',LpStatus[model.status])"
   ]
  },
  {
   "cell_type": "code",
   "execution_count": 5,
   "metadata": {},
   "outputs": [
    {
     "name": "stdout",
     "output_type": "stream",
     "text": [
      "X_(1,_2) = 1.0\n",
      "X_(2,_5) = 1.0\n",
      "X_(5,_6) = 1.0\n"
     ]
    }
   ],
   "source": [
    "for v in model.variables():\n",
    "    if v.varValue==1:\n",
    "        print(v.name, '=', v.varValue)"
   ]
  },
  {
   "cell_type": "markdown",
   "metadata": {},
   "source": [
    "The shortest path from node_1 to node_6 is 1->2->5->6"
   ]
  },
  {
   "cell_type": "code",
   "execution_count": 6,
   "metadata": {},
   "outputs": [
    {
     "name": "stdout",
     "output_type": "stream",
     "text": [
      "The value of objective function is 6.0\n",
      "the shortest travel time is 6.0\n"
     ]
    }
   ],
   "source": [
    "#Print the optimized value of the objective function\n",
    "print('The value of objective function is',value(model.objective))\n",
    "print('the shortest travel time is', value(model.objective))"
   ]
  },
  {
   "cell_type": "markdown",
   "metadata": {},
   "source": [
    "### Method 2 : Solution by Python NetworkX package"
   ]
  },
  {
   "cell_type": "code",
   "execution_count": 6,
   "metadata": {},
   "outputs": [],
   "source": [
    "import networkx as nx"
   ]
  },
  {
   "cell_type": "markdown",
   "metadata": {},
   "source": [
    "Initializing the Network"
   ]
  },
  {
   "cell_type": "code",
   "execution_count": 7,
   "metadata": {},
   "outputs": [],
   "source": [
    "# The following line initializes an empty directed graph objects\n",
    "G1=nx.DiGraph()"
   ]
  },
  {
   "cell_type": "code",
   "execution_count": 8,
   "metadata": {},
   "outputs": [
    {
     "data": {
      "text/plain": [
       "NodeView((1, 2, 3, 4, 5, 6))"
      ]
     },
     "execution_count": 8,
     "metadata": {},
     "output_type": "execute_result"
    }
   ],
   "source": [
    "G1.add_node(1)\n",
    "G1.add_node(2)\n",
    "G1.add_node(3)\n",
    "G1.add_node(4)\n",
    "G1.add_node(5)\n",
    "G1.add_node(6)\n",
    "G1.nodes()"
   ]
  },
  {
   "cell_type": "markdown",
   "metadata": {},
   "source": [
    "Construct the network with weighted edges"
   ]
  },
  {
   "cell_type": "code",
   "execution_count": 9,
   "metadata": {},
   "outputs": [
    {
     "data": {
      "text/plain": [
       "OutEdgeView([(1, 2), (1, 3), (2, 3), (2, 4), (2, 5), (3, 5), (4, 6), (5, 4), (5, 6)])"
      ]
     },
     "execution_count": 9,
     "metadata": {},
     "output_type": "execute_result"
    }
   ],
   "source": [
    "G1.add_edge(1, 2, weight = 2.0)\n",
    "#G1.add_edge(1,3)\n",
    "#G1[1][3]['weight'] = 4.0\n",
    "G1.add_edge(1, 3, weight = 4.0)\n",
    "G1.add_edge(2, 3, weight = 1.0)\n",
    "G1.add_edge(2, 4, weight = 4.0)\n",
    "G1.add_edge(2, 5, weight = 2.0)\n",
    "#G1.add_edge(3, 5)\n",
    "#G1[3][5]['weight'] = 3.0\n",
    "G1.add_edge(3, 5, weight = 3.0)\n",
    "G1.add_edge(4, 6, weight = 2.0)\n",
    "G1.add_edge(5, 4, weight = 3.0)\n",
    "G1.add_edge(5, 6, weight = 2.0)\n",
    "G1.edges()"
   ]
  },
  {
   "cell_type": "markdown",
   "metadata": {},
   "source": [
    "Solve the problem with dijkstra method - weighed shortest path"
   ]
  },
  {
   "cell_type": "code",
   "execution_count": 10,
   "metadata": {},
   "outputs": [
    {
     "name": "stdout",
     "output_type": "stream",
     "text": [
      "[1, 2, 5, 6]\n"
     ]
    }
   ],
   "source": [
    "sp = nx.dijkstra_path(G1,source = 1, target = 6)\n",
    "print(sp)"
   ]
  },
  {
   "cell_type": "markdown",
   "metadata": {},
   "source": [
    "Solve the problem with BFS method - unweighed shortest path"
   ]
  },
  {
   "cell_type": "code",
   "execution_count": 11,
   "metadata": {},
   "outputs": [
    {
     "name": "stdout",
     "output_type": "stream",
     "text": [
      "[1, 2, 4, 6]\n"
     ]
    }
   ],
   "source": [
    "print(nx.shortest_path(G1,source = 1, target = 6))"
   ]
  },
  {
   "cell_type": "code",
   "execution_count": 12,
   "metadata": {},
   "outputs": [
    {
     "name": "stdout",
     "output_type": "stream",
     "text": [
      "Answer: The shortest weighed length is 6.0\n"
     ]
    }
   ],
   "source": [
    "length=nx.dijkstra_path_length(G1, source=1, target=6)\n",
    "print('Answer: The shortest weighed length is',length)"
   ]
  },
  {
   "cell_type": "markdown",
   "metadata": {},
   "source": [
    "Plot the network and mark the shortest path"
   ]
  },
  {
   "cell_type": "code",
   "execution_count": 13,
   "metadata": {},
   "outputs": [],
   "source": [
    "# First we import the matplotlib python plotting package\n",
    "import matplotlib.pyplot as plt"
   ]
  },
  {
   "cell_type": "code",
   "execution_count": 14,
   "metadata": {},
   "outputs": [
    {
     "name": "stderr",
     "output_type": "stream",
     "text": [
      "/opt/anaconda3/lib/python3.7/site-packages/networkx/drawing/nx_pylab.py:579: MatplotlibDeprecationWarning: \n",
      "The iterable function was deprecated in Matplotlib 3.1 and will be removed in 3.3. Use np.iterable instead.\n",
      "  if not cb.iterable(width):\n",
      "/opt/anaconda3/lib/python3.7/site-packages/networkx/drawing/nx_pylab.py:676: MatplotlibDeprecationWarning: \n",
      "The iterable function was deprecated in Matplotlib 3.1 and will be removed in 3.3. Use np.iterable instead.\n",
      "  if cb.iterable(node_size):  # many node sizes\n",
      "/opt/anaconda3/lib/python3.7/site-packages/networkx/drawing/nx_pylab.py:585: MatplotlibDeprecationWarning: \n",
      "The iterable function was deprecated in Matplotlib 3.1 and will be removed in 3.3. Use np.iterable instead.\n",
      "  and cb.iterable(edge_color) \\\n"
     ]
    },
    {
     "data": {
      "image/png": "[encoded data removed]",
      "text/plain": [
       "<Figure size 432x288 with 1 Axes>"
      ]
     },
     "metadata": {},
     "output_type": "display_data"
    }
   ],
   "source": [
    "# We then set the coordinates of each node\n",
    "G1.node[1]['pos'] = (0,0)\n",
    "G1.node[2]['pos'] = (2,2)\n",
    "G1.node[3]['pos'] = (2,-2)\n",
    "G1.node[4]['pos'] = (5,2)\n",
    "G1.node[5]['pos'] = (5,-2)\n",
    "G1.node[6]['pos'] = (7,0)\n",
    "# The positions of each node are stored in a dictionary\n",
    "node_pos=nx.get_node_attributes(G1,'pos')\n",
    "# The edge weights of each arcs are stored in a dictionary\n",
    "arc_weight=nx.get_edge_attributes(G1,'weight')\n",
    "# Create a list of arcs in the shortest path using the zip command and store it in red edges\n",
    "red_edges = list(zip(sp,sp[1:]))\n",
    "# If the node is in the shortest path, set it to red, else set it to white color\n",
    "node_col = ['white' if not node in sp else 'red' for node in G1.nodes()]\n",
    "# If the edge is in the shortest path set it to red, else set it to white color\n",
    "edge_col = ['black' if not edge in red_edges else 'red' for edge in G1.edges()]\n",
    "# Draw the nodes\n",
    "nx.draw_networkx(G1, node_pos,node_color= node_col, node_size=450)\n",
    "# Draw the edges\n",
    "nx.draw_networkx_edges(G1, node_pos,edge_color= edge_col)\n",
    "# Draw the edge labels\n",
    "nx.draw_networkx_edge_labels(G1, node_pos,edge_color= edge_col, edge_labels=arc_weight)\n",
    "# Remove the axis\n",
    "plt.axis('off')\n",
    "# Show the plot\n",
    "plt.show()"
   ]
  },
  {
   "cell_type": "code",
   "execution_count": 15,
   "metadata": {},
   "outputs": [],
   "source": [
    "G1.clear()"
   ]
  },
  {
   "cell_type": "markdown",
   "metadata": {},
   "source": [
    "## Problem 2\n",
    "### Problem statement\n",
    "In the transportation network, the inflow comes from the origin Node 1, and the outflow comes out at the destination Node 5. Each edge has weighed travel time. **What is the path's shortest travel time in the network from the designated origin to the designated destination?**"
   ]
  },
  {
   "cell_type": "markdown",
   "metadata": {},
   "source": [
    "<img src=\"./prob2.jpg\" style=\"zoom:50%\" />"
   ]
  },
  {
   "cell_type": "markdown",
   "metadata": {},
   "source": [
    "#### Decision Variables\n",
    "  ##### Variables of path  $x_{i,j}$\n",
    "* $x_{1,2}$= the path from node 1 to node 2 \n",
    "* $x_{1,3}$= the path from node 1 to node 3\n",
    "* $x_{2,3}$= the path from node 2 to node 3\n",
    "* $x_{2,4}$= the path from node 2 to node 4\n",
    "* $x_{4,3}$= the path from node 4 to node 3\n",
    "* $x_{3,5}$= the path from node 3 to node 5"
   ]
  },
  {
   "cell_type": "markdown",
   "metadata": {},
   "source": [
    "##### Parameters of travel time  $t_{i,j}$\n",
    "* $t_{1,2}$= the path from node 1 to node 2\n",
    "* $t_{1,3}$= the path from node 1 to node 3\n",
    "* $t_{2,3}$= the path from node 2 to node 3\n",
    "* $t_{2,4}$= the path from node 2 to node 4\n",
    "* $t_{4,3}$= the path from node 4 to node 3\n",
    "* $t_{3,5}$= the path from node 3 to node 5"
   ]
  },
  {
   "cell_type": "markdown",
   "metadata": {},
   "source": [
    "#### Objective function\n",
    "Minimize $Z = \\sum t_{i,j}\\cdot x_{i,j}$\\\n",
    "  i.e., $Z = t_{1,2}\\cdot x_{1,2}+t_{1,3}\\cdot x_{1,3}+t_{2,3}\\cdot x_{2,3}+t_{2,4}\\cdot x_{2,4}+t_{4,3}\\cdot x_{4,3}+t_{3,5}\\cdot x_{3,5}$"
   ]
  },
  {
   "cell_type": "markdown",
   "metadata": {},
   "source": [
    "#### Node constraints\n",
    "* Origin: Node 1 \\\n",
    "$ 1 = x_{1,2}+x_{1,3}$\n",
    "* Destination: Node 1 \\\n",
    "$ x_{3,5} = 1 $\n",
    "* Node 2\\\n",
    "$x_{1,2}= x_{2,3}+ x_{2,4}$\n",
    "* Node 3\\\n",
    "$x_{1,3}+ x_{2,3}+x_{4,3} = x_{3,5}$\n",
    "* Node 4\\\n",
    "$x_{2,4} = x_{4,3}$\n"
   ]
  },
  {
   "cell_type": "markdown",
   "metadata": {},
   "source": [
    "### Method 1 : Solution by Python Pulp Package"
   ]
  },
  {
   "cell_type": "markdown",
   "metadata": {},
   "source": [
    "Initialize the network, build the nodes and edges. "
   ]
  },
  {
   "cell_type": "code",
   "execution_count": 16,
   "metadata": {},
   "outputs": [],
   "source": [
    "# Import PuLP modeler functions\n",
    "from pulp import *\n",
    "# Data for Linear Optimization Problem\n",
    "N = 5  # Number of nodes in network\n",
    "M = 2  # number of end nodes (source and sink or origin and destination)\n",
    "INT = 3 # Number of intermediate nodes\n",
    "a = range(1, N+1)\n",
    "al = range(N)\n",
    "b = range(1,N+1)\n",
    "bl = range(N)\n",
    "# Index list for decision variables x\n",
    "xindx = [(a[i],b[j]) for j in bl for i in al]\n",
    "T = INT + M # number of artificial variables (y)\n",
    "tindx = range(1, T+1)"
   ]
  },
  {
   "cell_type": "markdown",
   "metadata": {},
   "source": [
    "Define decision variables and objective function"
   ]
  },
  {
   "cell_type": "code",
   "execution_count": 17,
   "metadata": {},
   "outputs": [],
   "source": [
    "model = LpProblem(\"Shortest Path Problem\",LpMinimize)\n",
    "# Decision variables\n",
    "x = LpVariable.dicts(\"X\", xindx,0,None)\n",
    "y = LpVariable.dicts(\"Y\", tindx,0,None)\n",
    "model+= 2.0*x[1,2] + 8.0*x[1,3] + 5.0*x[2,3] + 2.0*x[2,4] + 1.0*x[4,3] + 1.0*x[3,5], \"Transportation cost\""
   ]
  },
  {
   "cell_type": "markdown",
   "metadata": {},
   "source": [
    "Add constraints on each node"
   ]
  },
  {
   "cell_type": "code",
   "execution_count": 18,
   "metadata": {},
   "outputs": [],
   "source": [
    "model += x[1,2] + x[1,3] -y[1] == 1,\"Source node\"\n",
    "model += x[3,5] - y[2] == 1,\"Destination node\"\n",
    "model += x[1,2] - x[2,3] - x[2,4] - y[3] == 0,\"Node 2\"\n",
    "model += x[1,3] + x[2,3] + x[4,3] -x[3,5]- y[4] == 0,\"Node 3\"\n",
    "model += x[2,4] - x[4,3] - y[5] == 0, \"Node 4\""
   ]
  },
  {
   "cell_type": "markdown",
   "metadata": {},
   "source": [
    "Solve the model and find out the shortest path"
   ]
  },
  {
   "cell_type": "code",
   "execution_count": 19,
   "metadata": {},
   "outputs": [
    {
     "name": "stdout",
     "output_type": "stream",
     "text": [
      "Status: Optimal\n"
     ]
    }
   ],
   "source": [
    "model.solve()\n",
    "print('Status:',LpStatus[model.status])"
   ]
  },
  {
   "cell_type": "code",
   "execution_count": 20,
   "metadata": {},
   "outputs": [
    {
     "name": "stdout",
     "output_type": "stream",
     "text": [
      "X_(1,_2) = 1.0\n",
      "X_(2,_4) = 1.0\n",
      "X_(3,_5) = 1.0\n",
      "X_(4,_3) = 1.0\n"
     ]
    }
   ],
   "source": [
    "for v in model.variables():\n",
    "    if v.varValue==1:\n",
    "        print(v.name, '=', v.varValue)"
   ]
  },
  {
   "cell_type": "markdown",
   "metadata": {},
   "source": [
    "The shortest path from node_1 to node_6 is 1->2->4->3->5"
   ]
  },
  {
   "cell_type": "code",
   "execution_count": 21,
   "metadata": {},
   "outputs": [
    {
     "name": "stdout",
     "output_type": "stream",
     "text": [
      "Objective Function 6.0\n"
     ]
    }
   ],
   "source": [
    "#Print the optimized value of the objective function\n",
    "print('Objective Function',value(model.objective))"
   ]
  },
  {
   "cell_type": "markdown",
   "metadata": {},
   "source": [
    "## Method 2: Solution by Python NetworkX Package"
   ]
  },
  {
   "cell_type": "markdown",
   "metadata": {},
   "source": [
    "NetworkX is a python package which can be used for network analysis."
   ]
  },
  {
   "cell_type": "code",
   "execution_count": 22,
   "metadata": {},
   "outputs": [],
   "source": [
    "import networkx as nx"
   ]
  },
  {
   "cell_type": "markdown",
   "metadata": {},
   "source": [
    "Initialize the network"
   ]
  },
  {
   "cell_type": "code",
   "execution_count": 23,
   "metadata": {},
   "outputs": [],
   "source": [
    "# Initialize two empty directed graph objects\n",
    "G1=nx.DiGraph()\n",
    "G2=nx.DiGraph()\n",
    "# An empty undirected path graph object can be initialized using the command\n",
    "# G=nx.Graph()"
   ]
  },
  {
   "cell_type": "markdown",
   "metadata": {},
   "source": [
    "G1-the first method to build nodes and weighed edges"
   ]
  },
  {
   "cell_type": "code",
   "execution_count": 24,
   "metadata": {},
   "outputs": [
    {
     "data": {
      "text/plain": [
       "NodeView((1, 2, 3, 4, 5))"
      ]
     },
     "execution_count": 24,
     "metadata": {},
     "output_type": "execute_result"
    }
   ],
   "source": [
    "G1.add_node(1)\n",
    "G1.add_node(2)\n",
    "G1.add_node(3)\n",
    "G1.add_node(4)\n",
    "G1.add_node(5)\n",
    "G1.nodes()"
   ]
  },
  {
   "cell_type": "code",
   "execution_count": 25,
   "metadata": {},
   "outputs": [
    {
     "data": {
      "text/plain": [
       "OutEdgeView([(1, 2), (1, 3), (2, 4), (2, 3), (3, 5), (4, 3)])"
      ]
     },
     "execution_count": 25,
     "metadata": {},
     "output_type": "execute_result"
    }
   ],
   "source": [
    "G1.add_edge(1,2,weight=2)\n",
    "G1.add_edge(1,3)\n",
    "G1[1][3]['weight'] = 8\n",
    "G1.add_edge(2,4,weight=2)\n",
    "G1.add_edge(4,3,weight=1)\n",
    "G1.add_edge(2,3)\n",
    "G1[2][3]['weight'] = 5\n",
    "G1.add_edge(3,5,weight=1)\n",
    "G1.edges()"
   ]
  },
  {
   "cell_type": "markdown",
   "metadata": {},
   "source": [
    "G2 - the second method to build nodes and weighed edges"
   ]
  },
  {
   "cell_type": "code",
   "execution_count": 26,
   "metadata": {},
   "outputs": [
    {
     "data": {
      "text/plain": [
       "NodeView((1, 2, 3, 4, 5))"
      ]
     },
     "execution_count": 26,
     "metadata": {},
     "output_type": "execute_result"
    }
   ],
   "source": [
    "list_nodes = [1,2,3,4,5]\n",
    "G2.add_nodes_from(list_nodes)\n",
    "G2.nodes()"
   ]
  },
  {
   "cell_type": "code",
   "execution_count": 27,
   "metadata": {},
   "outputs": [
    {
     "data": {
      "text/plain": [
       "OutEdgeView([(1, 2), (1, 3), (2, 3), (2, 4), (3, 5), (4, 3)])"
      ]
     },
     "execution_count": 27,
     "metadata": {},
     "output_type": "execute_result"
    }
   ],
   "source": [
    "list_arcs=[(1,2,2.0),(1,3,8.0),(2,3,5.0),(2,4,2.0),(2,3,1.0),(4,3,1.0),(3,5,1.0)]\n",
    "G2.add_weighted_edges_from(list_arcs)\n",
    "G2.edges()"
   ]
  },
  {
   "cell_type": "markdown",
   "metadata": {},
   "source": [
    "Solve the proble with dijkstra method - weighed shortest path"
   ]
  },
  {
   "cell_type": "code",
   "execution_count": 28,
   "metadata": {},
   "outputs": [
    {
     "name": "stdout",
     "output_type": "stream",
     "text": [
      "The shortest dijkstra path (weighted path) is [1, 2, 4, 3, 5]\n"
     ]
    }
   ],
   "source": [
    "sp=nx.dijkstra_path(G1,source=1,target=5)\n",
    "print('The shortest dijkstra path (weighted path) is',sp)"
   ]
  },
  {
   "cell_type": "markdown",
   "metadata": {},
   "source": [
    "Solve the problem with BFS method - unweighed shortest path"
   ]
  },
  {
   "cell_type": "code",
   "execution_count": 29,
   "metadata": {},
   "outputs": [
    {
     "name": "stdout",
     "output_type": "stream",
     "text": [
      "The shortest path (unweighted) is  [1, 3, 5]\n"
     ]
    }
   ],
   "source": [
    "print('The shortest path (unweighted) is ',nx.shortest_path(G1,source=1,target=5)) "
   ]
  },
  {
   "cell_type": "markdown",
   "metadata": {},
   "source": [
    "Plot the network, mark the shortest path."
   ]
  },
  {
   "cell_type": "code",
   "execution_count": 30,
   "metadata": {},
   "outputs": [
    {
     "data": {
      "image/png": "[encoded data removed]",
      "text/plain": [
       "<Figure size 432x288 with 1 Axes>"
      ]
     },
     "metadata": {},
     "output_type": "display_data"
    }
   ],
   "source": [
    "# We then set the coordinates of each node\n",
    "G1.node[1]['pos'] = (0,0)\n",
    "G1.node[2]['pos'] = (2,2)\n",
    "G1.node[3]['pos'] = (2,-2)\n",
    "G1.node[4]['pos'] = (5,2)\n",
    "G1.node[5]['pos'] = (5,-2)\n",
    "# The positions of each node are stored in a dictionary\n",
    "node_pos=nx.get_node_attributes(G1,'pos')\n",
    "# The edge weights of each arcs are stored in a dictionary\n",
    "arc_weight=nx.get_edge_attributes(G1,'weight')\n",
    "# Create a list of arcs in the shortest path using the zip command and store it in red edges\n",
    "red_edges = list(zip(sp,sp[1:]))\n",
    "# If the node is in the shortest path, set it to red, else set it to white color\n",
    "node_col = ['white' if not node in sp else 'red' for node in G1.nodes()]\n",
    "# If the edge is in the shortest path set it to red, else set it to white color\n",
    "edge_col = ['black' if not edge in red_edges else 'red' for edge in G1.edges()]\n",
    "# Draw the nodes\n",
    "nx.draw_networkx(G1, node_pos,node_color= node_col, node_size=450)\n",
    "# Draw the node labels\n",
    "# nx.draw_networkx_labels(G1, node_pos,node_color= node_col)\n",
    "# Draw the edges\n",
    "nx.draw_networkx_edges(G1, node_pos,edge_color= edge_col)\n",
    "# Draw the edge labels\n",
    "nx.draw_networkx_edge_labels(G1, node_pos,edge_color= edge_col, edge_labels=arc_weight)\n",
    "# Remove the axis\n",
    "plt.axis('off')\n",
    "# Show the plot\n",
    "plt.show()"
   ]
  },
  {
   "cell_type": "code",
   "execution_count": null,
   "metadata": {},
   "outputs": [],
   "source": []
  }
 ],
 "metadata": {
  "kernelspec": {
   "display_name": "Python 3",
   "language": "python",
   "name": "python3"
  },
  "language_info": {
   "codemirror_mode": {
    "name": "ipython",
    "version": 3
   },
   "file_extension": ".py",
   "mimetype": "text/x-python",
   "name": "python",
   "nbconvert_exporter": "python",
   "pygments_lexer": "ipython3",
   "version": "3.7.4"
  }
 },
 "nbformat": 4,
 "nbformat_minor": 2
}
