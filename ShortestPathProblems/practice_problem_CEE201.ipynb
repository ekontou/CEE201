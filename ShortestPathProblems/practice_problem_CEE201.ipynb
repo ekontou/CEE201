{
 "cells": [
  {
   "cell_type": "markdown",
   "metadata": {},
   "source": [
    "# Practice Problem for CEE 201 Fall 2023 Project"
   ]
  },
  {
   "cell_type": "markdown",
   "metadata": {},
   "source": [
    "#### Reading data\n",
    "The following piece of code reads the data from the text file. Please adjust the location of the folder in accordance to your machine."
   ]
  },
  {
   "cell_type": "code",
   "execution_count": 7,
   "metadata": {},
   "outputs": [],
   "source": [
    "import numpy as np\n",
    "\n",
    "with open(\"small_test.txt\") as file:\n",
    "    data = [line.rstrip() for line in file]\n",
    "\n",
    "streets=[]\n",
    "intersections=[]\n",
    "for line in data:\n",
    "    l = line.split()\n",
    "    streets.append((int(l[0]), int(l[1]), float(l[2])))\n",
    "    streets.append((int(l[1]), int(l[0]), float(l[2])))\n",
    "    intersections.append(int(l[0]))\n",
    "    intersections.append(int(l[1]))\n",
    "intersections=list(np.unique(intersections))"
   ]
  },
  {
   "cell_type": "code",
   "execution_count": 8,
   "metadata": {},
   "outputs": [
    {
     "name": "stdout",
     "output_type": "stream",
     "text": [
      "The network has 28 streets and 10 intersections.\n"
     ]
    }
   ],
   "source": [
    "print(\"The network has\", len(streets), \"streets and\", len(intersections), \"intersections.\")"
   ]
  },
  {
   "cell_type": "markdown",
   "metadata": {},
   "source": [
    "#### Solving the practice problem\n",
    "We will solve the Practice Problem using PuLP, a solver that you should have already basic knowldege of using."
   ]
  },
  {
   "cell_type": "code",
   "execution_count": 9,
   "metadata": {},
   "outputs": [],
   "source": [
    "from pulp import *"
   ]
  },
  {
   "cell_type": "code",
   "execution_count": 10,
   "metadata": {},
   "outputs": [],
   "source": [
    "#Set up the model\n",
    "model = LpProblem(\"Shortest_Path_Problem\",LpMinimize)\n",
    "# Define the decision variables\n",
    "xindx=[]\n",
    "for street in streets:\n",
    "    xindx.append((street[0], street[1]))\n",
    "    \n",
    "x = LpVariable.dicts(\"X\", xindx,0,None) #setting up x variables and nonnegativity constraints\n",
    "model+=lpSum([street[2]*x[street[0], street[1]] for street in streets])"
   ]
  },
  {
   "cell_type": "code",
   "execution_count": 11,
   "metadata": {},
   "outputs": [],
   "source": [
    "#Set up the flow conservation constraints\n",
    "source=0\n",
    "terminal=9\n",
    "for i in intersections:\n",
    "    if i==source:\n",
    "        model+=lpSum([x[street[0],street[1]]-x[street[1],street[0]] for street in streets if street[0]==i])==1, \"source\"\n",
    "    elif i==terminal:\n",
    "        model+=lpSum([x[street[0],street[1]]-x[street[1],street[0]] for street in streets if street[0]==i])==-1, \"destination\"\n",
    "    else:\n",
    "        model+=lpSum([x[street[0],street[1]]-x[street[1],street[0]] for street in streets if street[0]==i])==0, \"node\"+str(i)"
   ]
  },
  {
   "cell_type": "code",
   "execution_count": 12,
   "metadata": {},
   "outputs": [
    {
     "name": "stdout",
     "output_type": "stream",
     "text": [
      "Status: Optimal\n"
     ]
    }
   ],
   "source": [
    "model.solve()\n",
    "print('Status:',LpStatus[model.status])"
   ]
  },
  {
   "cell_type": "markdown",
   "metadata": {},
   "source": [
    "#### Obtaining the solution\n",
    "Here we print the optimal path and its travel time."
   ]
  },
  {
   "cell_type": "code",
   "execution_count": 13,
   "metadata": {},
   "outputs": [
    {
     "name": "stdout",
     "output_type": "stream",
     "text": [
      "X_(0,_1) = 1.0\n",
      "X_(1,_3) = 1.0\n",
      "X_(3,_5) = 1.0\n",
      "X_(5,_7) = 1.0\n",
      "X_(7,_8) = 1.0\n",
      "X_(8,_9) = 1.0\n",
      "The travel time is 6.0\n"
     ]
    }
   ],
   "source": [
    "for v in model.variables():\n",
    "    if v.varValue==1:\n",
    "        print(v.name, '=', v.varValue)\n",
    "print('The travel time is', value(model.objective))"
   ]
  },
  {
   "cell_type": "code",
   "execution_count": null,
   "metadata": {},
   "outputs": [],
   "source": []
  }
 ],
 "metadata": {
  "kernelspec": {
   "display_name": "Python 3",
   "language": "python",
   "name": "python3"
  },
  "language_info": {
   "codemirror_mode": {
    "name": "ipython",
    "version": 3
   },
   "file_extension": ".py",
   "mimetype": "text/x-python",
   "name": "python",
   "nbconvert_exporter": "python",
   "pygments_lexer": "ipython3",
   "version": "3.7.4"
  }
 },
 "nbformat": 4,
 "nbformat_minor": 5
}
