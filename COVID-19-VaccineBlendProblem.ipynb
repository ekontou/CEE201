{
 "cells": [
  {
   "cell_type": "code",
   "execution_count": 2,
   "metadata": {},
   "outputs": [],
   "source": [
    "# Import python packages numpy, matplotlib, and pulp\n",
    "import numpy as np\n",
    "import matplotlib.pyplot as plt\n",
    "%matplotlib inline\n",
    "import pulp"
   ]
  },
  {
   "cell_type": "markdown",
   "metadata": {},
   "source": [
    "# CEE 201: Linear Programming with Jupyter Notebooks\n",
    "\n",
    "## Example: A Blending Problem\n",
    "\n",
    "### Problem Statement\n",
    "\n",
    "A big pharma company is preparing a batch of COVID-19 vaccines for a small scale experiment. Ingredients, their costs, and availability are presented in the following table:\n",
    "\n",
    "|Ingredient   | Cost ($/kg)   | Availability   |\n",
    "|----------------|----------------|----------------|\n",
    "| Antigen 1   |  4.32 |  30     | \n",
    "| Antigen 2  | 2.46  | 20  |\n",
    "| Antigen 3  | 1.86 | 17|\n",
    "\n",
    "Their lab experts will make 2 types of vaccines:\n",
    "\n",
    "* Kids (>40% Antigen 1)\n",
    "* Adults (>60% Antigen 1)\n",
    "\n",
    "One vaccine is 0.05 kg. According to FDA regulations, the most antigen 3 we can use in our vaccine is 25%. In addition, we have a contract with a medical provider, and have already purchased 23 kg of Antigen 1, that must go in our vaccines. In our experiment, 350 kids and 500 adult vaccines will be used.\n",
    "\n",
    "We need to figure out **how to most cost effectively blend our antigens to prepare vaccines for our trial**.\n",
    "\n",
    "#### Decision Varibles\n",
    "\n",
    "* $k_1$= antigen 1 in kids vaccine (kg)\n",
    "* $k_2$= antigen 2 in kids vaccine (kg)\n",
    "* $k_3$= antigen 3 in kids vaccine (kg)\n",
    "* $a_1$= antigen 1 in adults vaccine (kg)\n",
    "* $a_2$= antigen 2 in adults vaccine (kg)\n",
    "* $a_3$= antigen 3 in adults vaccine (kg)\n"
   ]
  },
  {
   "cell_type": "markdown",
   "metadata": {},
   "source": [
    "### Objective Function & Constraints\n",
    "#### Minimizing total costs\n",
    "$Z=4.32(k_1+a_1)+2.46(k_2+a_2)+1.86(k_3+a_3)$\n",
    "\n",
    "#### Problem costraints\n",
    "* Vaccines kg requirement \\\n",
    "$k_1+k_2+k_3= 350* 0.005$ \\\n",
    "$a_1+a_2+a_3= 500* 0.005$\n",
    "* Kids and Adults vaccines antigen 1 dosage \\\n",
    "$k_1≥0.4(k_1+k_2+k_3)$ \\\n",
    "$a_1≥0.6(a_1+a_2+a_3)$\n",
    "* Antigen 3 FDA regulation dosage \\\n",
    "$k_3≤0.25(k_1+k_2+k_3)$ \\\n",
    "$a_3≤0.25(a_1+a_2+a_3)$\n",
    "* Antigens  availability \\\n",
    "$k_1+a_1≤30$ \\\n",
    "$k_2+a_2≤20$ \\\n",
    "$k_3+a_3≤17$\n",
    "* Antigen 1 medical providers supply \\\n",
    "$k_1+a_1≥23$\n",
    "\n",
    "* Production cannot be negative \\\n",
    "$k_1, k_2, k_3 \\geq 0$, \\\n",
    "$a_1, a_2, a_3 \\geq 0$"
   ]
  },
  {
   "cell_type": "markdown",
   "metadata": {},
   "source": [
    "## Solution by Python Pulp package"
   ]
  },
  {
   "cell_type": "code",
   "execution_count": 6,
   "metadata": {},
   "outputs": [],
   "source": [
    "# Instantiate the problem class\n",
    "model = pulp.LpProblem(\"Cost minimising blending problem\", pulp.LpMinimize)"
   ]
  },
  {
   "cell_type": "markdown",
   "metadata": {},
   "source": [
    "We have 6 decision variables, we could name them individually but this wouldn’t scale up if we had hundreds/thousands of variables (you don’t want to be entering all of these by hand multiple times).\n",
    "We’ll create a couple of lists from which we can create tuple indices."
   ]
  },
  {
   "cell_type": "code",
   "execution_count": 7,
   "metadata": {},
   "outputs": [],
   "source": [
    "# Construct our decision variable lists\n",
    "vaccine_types = ['kids', 'adults']\n",
    "ingredients = ['antigen 1', 'antigen 2', 'antigen 3']"
   ]
  },
  {
   "cell_type": "markdown",
   "metadata": {},
   "source": [
    "Each of the decision variables have similar characteristics (lower bound of 0, continuous variables). Therefore, we can use PuLP’s LpVariable object’s dictionary functionality, we can provide our tuple indices. These tuples will be keys for the ing_weight dictionary of decision variables."
   ]
  },
  {
   "cell_type": "code",
   "execution_count": 8,
   "metadata": {},
   "outputs": [],
   "source": [
    "# Define characteristics\n",
    "ing_weight = pulp.LpVariable.dicts(\"weight kg\",\n",
    "                                     ((i, j) for i in vaccine_types for j in ingredients),\n",
    "                                     lowBound=0,\n",
    "                                     cat='Continuous')"
   ]
  },
  {
   "cell_type": "code",
   "execution_count": 9,
   "metadata": {},
   "outputs": [],
   "source": [
    "# Objective Function\n",
    "model += (\n",
    "    pulp.lpSum([\n",
    "        4.32 * ing_weight[(i, 'antigen 1')]\n",
    "        + 2.46 * ing_weight[(i, 'antigen 2')]\n",
    "        + 1.86 * ing_weight[(i, 'antigen 3')]\n",
    "        for i in vaccine_types])\n",
    ")"
   ]
  },
  {
   "cell_type": "markdown",
   "metadata": {},
   "source": [
    "We are going to add the constraints of the problem in this step:"
   ]
  },
  {
   "cell_type": "code",
   "execution_count": 11,
   "metadata": {},
   "outputs": [],
   "source": [
    "# Constraints\n",
    "# 350 kids and 500 adults vaccines at 0.05 kg\n",
    "model += pulp.lpSum([ing_weight['kids', j] for j in ingredients]) == 350 * 0.05\n",
    "model += pulp.lpSum([ing_weight['adults', j] for j in ingredients]) == 500 * 0.05\n",
    "\n",
    "# Kids has >= 40% antigen 1, adults >= 60% antigen 1\n",
    "model += ing_weight['kids', 'antigen 1'] >= (\n",
    "    0.4 * pulp.lpSum([ing_weight['kids', j] for j in ingredients]))\n",
    "\n",
    "model += ing_weight['adults', 'antigen 1'] >= (\n",
    "    0.6 * pulp.lpSum([ing_weight['adults', j] for j in ingredients]))\n",
    "\n",
    "# Vaccines must be <= 25% antigen 3\n",
    "model += ing_weight['kids', 'antigen 3'] <= (\n",
    "    0.25 * pulp.lpSum([ing_weight['kids', j] for j in ingredients]))\n",
    "\n",
    "model += ing_weight['adults', 'antigen 3'] <= (\n",
    "    0.25 * pulp.lpSum([ing_weight['adults', j] for j in ingredients]))\n",
    "\n",
    "# We have at most 30 kg of antigen 1, 20 kg of 2 and 17 kg of 3 available\n",
    "model += pulp.lpSum([ing_weight[i, 'antigen 1'] for i in vaccine_types]) <= 30\n",
    "model += pulp.lpSum([ing_weight[i, 'antigen 2'] for i in vaccine_types]) <= 20\n",
    "model += pulp.lpSum([ing_weight[i, 'antigen 3'] for i in vaccine_types]) <= 17\n",
    "\n",
    "# We have at least 23 kg of antigen 1 to use up\n",
    "model += pulp.lpSum([ing_weight[i, 'antigen 1'] for i in vaccine_types]) >= 23"
   ]
  },
  {
   "cell_type": "code",
   "execution_count": 12,
   "metadata": {},
   "outputs": [
    {
     "data": {
      "text/plain": [
       "'Optimal'"
      ]
     },
     "execution_count": 12,
     "metadata": {},
     "output_type": "execute_result"
    }
   ],
   "source": [
    "# Solve our problem\n",
    "model.solve()\n",
    "pulp.LpStatus[model.status]"
   ]
  },
  {
   "cell_type": "markdown",
   "metadata": {},
   "source": [
    "In this step we will review the results:"
   ]
  },
  {
   "cell_type": "code",
   "execution_count": 22,
   "metadata": {},
   "outputs": [
    {
     "name": "stdout",
     "output_type": "stream",
     "text": [
      "The total cost in $ for 350 kids and 500 adults vaccines is 140.96\n"
     ]
    }
   ],
   "source": [
    "total_cost = pulp.value(model.objective)\n",
    "\n",
    "print(\"The total cost in $ for 350 kids and 500 adults vaccines is\",format(round(total_cost, 2)))"
   ]
  },
  {
   "cell_type": "code",
   "execution_count": 25,
   "metadata": {},
   "outputs": [
    {
     "name": "stdout",
     "output_type": "stream",
     "text": [
      "antigen 1 kids 8.0\n",
      "antigen 2 kids 5.125\n",
      "antigen 3 kids 4.375\n",
      "antigen 1 adults 15.0\n",
      "antigen 2 adults 3.75\n",
      "antigen 3 adults 6.25\n"
     ]
    }
   ],
   "source": [
    "for var in ing_weight:\n",
    "    var_value = ing_weight[var].varValue\n",
    "    print(var[1], var[0], var_value)"
   ]
  },
  {
   "cell_type": "code",
   "execution_count": null,
   "metadata": {},
   "outputs": [],
   "source": []
  }
 ],
 "metadata": {
  "kernelspec": {
   "display_name": "Python 3",
   "language": "python",
   "name": "python3"
  },
  "language_info": {
   "codemirror_mode": {
    "name": "ipython",
    "version": 3
   },
   "file_extension": ".py",
   "mimetype": "text/x-python",
   "name": "python",
   "nbconvert_exporter": "python",
   "pygments_lexer": "ipython3",
   "version": "3.7.4"
  }
 },
 "nbformat": 4,
 "nbformat_minor": 2
}
