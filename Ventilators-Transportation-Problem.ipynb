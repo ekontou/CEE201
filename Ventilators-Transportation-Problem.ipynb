{
 "cells": [
  {
   "cell_type": "code",
   "execution_count": 22,
   "metadata": {},
   "outputs": [],
   "source": [
    "#In this first step we import the packages that we will use in order to solve the problem\n",
    "import numpy as np\n",
    "import matplotlib.pyplot as plt\n",
    "%matplotlib inline\n",
    "import pulp"
   ]
  },
  {
   "cell_type": "markdown",
   "metadata": {},
   "source": [
    "# CEE 201: Linear Programming with Jupyter Notebooks\n",
    "\n",
    "## Example: COVID-19 Ventilators Transportation Problem\n",
    "\n",
    "### Problem Statement"
   ]
  },
  {
   "cell_type": "markdown",
   "metadata": {},
   "source": [
    "To promptly respond to COVID-19, two factories distribute ventilators to five hospitals. The city would like to have an interactive computer program which they can run week by week to tell them which factories should supply which hospitals so as to minimize the costs of the whole operation. For example, suppose that at the start of a given week, 1000 ventilators were produced at factory A, and 4000 at factory B, and that the hospitals require 500, 900, 1800, 200, and 700 ventilators respectively. Which factory should supply which hospital?"
   ]
  },
  {
   "cell_type": "code",
   "execution_count": 31,
   "metadata": {},
   "outputs": [],
   "source": [
    "# Creates a list of all the ventilator supply nodes (ventilator factories)\n",
    "Factories = [1,2]\n",
    "\n",
    "# Creates a dictionary for the number of units of supply for each supply node\n",
    "supply = {1: 1000,\n",
    "        2: 4000}\n",
    "\n",
    "# Creates a list of all demand nodes\n",
    "Hospitals = [1, 2, 3, 4, 5]\n",
    "\n",
    "# Creates a dictionary for the number of ventilator units of demand for each hospital node\n",
    "demand = {1: 500,\n",
    "        2: 900,\n",
    "        3: 1800,\n",
    "        4: 200,\n",
    "        5: 700}"
   ]
  },
  {
   "cell_type": "code",
   "execution_count": 39,
   "metadata": {},
   "outputs": [],
   "source": [
    "# Creates a list of costs of each transportation path\n",
    "costs = {#Hospitals\n",
    "         #1 2 3 4 5\n",
    "         1:{1:2,2:4,3:5,4:2,5:1},#A  Factory\n",
    "         2:{1:3,2:1,3:3,4:2,5:3} #B   Factory\n",
    "}"
   ]
  },
  {
   "cell_type": "markdown",
   "metadata": {},
   "source": [
    "Below, a list of tuples is created containing all the transportation links and a dictionary called route_var is created which contains the LP variables. The reference keys to the dictionary are the factory name, then the hospital name([“A”][“2”]) , and the data is Route_Tuple. (e.g. [“A”][“2”]: Route_A_2). The lower limit of zero is set, the upper limit of None is set, and the variables are defined to be Integers."
   ]
  },
  {
   "cell_type": "code",
   "execution_count": 40,
   "metadata": {},
   "outputs": [],
   "source": [
    "#Set problem variable\n",
    "# Creates the prob variable to contain the problem data\n",
    "prob = pulp.LpProblem(\"Ventilators Distribution Problem\",pulp.LpMinimize)\n",
    "# Creates a list of tuples containing all the possible routes for transport\n",
    "Routes = [(f,h) for f in Factories for h in Hospitals]\n",
    "# A dictionary called route_vars is created to contain the referenced variables (the routes)\n",
    "route_vars = pulp.LpVariable.dicts(\"Route\",(Factories,Hospitals),0,None,pulp.LpInteger)\n"
   ]
  },
  {
   "cell_type": "markdown",
   "metadata": {},
   "source": [
    "The objective function is added to the variable prob using a list comprehension. Since route_vars and costs are now dictionaries (with further internal dictionaries), they can be used as if they were tables, as for (f,h) in Routes will cycle through all the combinations/links. Note that i and j could have been used, but f and h are more meaningful."
   ]
  },
  {
   "cell_type": "code",
   "execution_count": 41,
   "metadata": {},
   "outputs": [],
   "source": [
    "# The objective function is added to prob first\n",
    "prob += pulp.lpSum([route_vars[f][h]*costs[f][h] for f in Factories for h in Hospitals])"
   ]
  },
  {
   "cell_type": "code",
   "execution_count": 42,
   "metadata": {},
   "outputs": [],
   "source": [
    "# The supply maximum constraints are added to prob for each supply node (ventilators factory)\n",
    "for f in Factories:\n",
    "    prob += pulp.lpSum([route_vars[f][h] for h in Hospitals]) <= supply[f]\n",
    "# The demand minimum constraints are added to prob for each demand node (hospital)\n",
    "for h in Hospitals:\n",
    "    prob += pulp.lpSum([route_vars[f][h] for f in Factories]) >= demand[h]"
   ]
  },
  {
   "cell_type": "code",
   "execution_count": 44,
   "metadata": {},
   "outputs": [
    {
     "data": {
      "text/plain": [
       "'Optimal'"
      ]
     },
     "execution_count": 44,
     "metadata": {},
     "output_type": "execute_result"
    }
   ],
   "source": [
    "# Solve our problem\n",
    "prob.solve()\n",
    "pulp.LpStatus[prob.status]"
   ]
  },
  {
   "cell_type": "code",
   "execution_count": 45,
   "metadata": {},
   "outputs": [
    {
     "name": "stdout",
     "output_type": "stream",
     "text": [
      "The total cost in $ is 8600.0\n"
     ]
    }
   ],
   "source": [
    "total_cost = pulp.value(prob.objective)\n",
    "\n",
    "print(\"The total cost in $ is\",total_cost)"
   ]
  },
  {
   "cell_type": "code",
   "execution_count": 48,
   "metadata": {},
   "outputs": [
    {
     "name": "stdout",
     "output_type": "stream",
     "text": [
      "Route_1_1 = 300.0\n",
      "Route_1_2 = 0.0\n",
      "Route_1_3 = 0.0\n",
      "Route_1_4 = 0.0\n",
      "Route_1_5 = 700.0\n",
      "Route_2_1 = 200.0\n",
      "Route_2_2 = 900.0\n",
      "Route_2_3 = 1800.0\n",
      "Route_2_4 = 200.0\n",
      "Route_2_5 = 0.0\n"
     ]
    }
   ],
   "source": [
    "for v in prob.variables():\n",
    "    print(v.name,\"=\",v.varValue)"
   ]
  },
  {
   "cell_type": "code",
   "execution_count": null,
   "metadata": {},
   "outputs": [],
   "source": []
  }
 ],
 "metadata": {
  "kernelspec": {
   "display_name": "Python 3",
   "language": "python",
   "name": "python3"
  },
  "language_info": {
   "codemirror_mode": {
    "name": "ipython",
    "version": 3
   },
   "file_extension": ".py",
   "mimetype": "text/x-python",
   "name": "python",
   "nbconvert_exporter": "python",
   "pygments_lexer": "ipython3",
   "version": "3.7.4"
  }
 },
 "nbformat": 4,
 "nbformat_minor": 2
}
