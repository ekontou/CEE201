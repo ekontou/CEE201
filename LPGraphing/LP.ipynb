{
 "cells": [
  {
   "cell_type": "markdown",
   "metadata": {},
   "source": [
    "# CEE 201: Solving Linear Programming in Python"
   ]
  },
  {
   "cell_type": "markdown",
   "metadata": {},
   "source": [
    "Now consider the following problem:\n",
    "\n",
    "$$\\min_{x_1,x_2} 7 x_1 - 5 x_2$$\n",
    "\n",
    "\n",
    "                                        s.t.\n",
    "\\begin{align*}\n",
    " 2 x_1 - x_2 &\\geq 4 \\\\\n",
    " 10 x_1 + 3 x_2 &\\leq 30 \\\\\n",
    " x_1 + 2 x_2 &\\geq 10 \\\\\n",
    " x_1, x_2 &\\geq 0 \\\\\n",
    "\\end{align*}"
   ]
  },
  {
   "cell_type": "markdown",
   "metadata": {},
   "source": [
    "Then we can solve this problem steps by steps:\n",
    "\n",
    "a. modify the constraints: converting the “greater than” inequality constraint to a “less than” inequality constraint by multiplying both sides by a factor of \"-1\".\n",
    "\n",
    "\n"
   ]
  },
  {
   "cell_type": "markdown",
   "metadata": {},
   "source": [
    "$$\\min_{x_1,x_2} 7 x_1 - 5 x_2$$\n",
    "\n",
    "\n",
    "                                        s.t.\n",
    "\\begin{align*}\n",
    " - 2 x_1 + x_2 &\\leq -4 \\\\\n",
    " 10 x_1 + 3 x_2 &\\leq 30 \\\\\n",
    " - x_1 - 2 x_2 &\\leq -10 \\\\\n",
    " x_1, x_2 &\\geq 0 \\\\\n",
    "\\end{align*}"
   ]
  },
  {
   "cell_type": "markdown",
   "metadata": {},
   "source": [
    "b. define the constraints\n",
    "\n",
    "1) c represents the coefficient of each variable in objective function\n",
    "    \n",
    "2) transform the inequalities into a form of Matrix-muliplication.  Each row of A specifies the coefficients of a linear inequality constraint on x. Each element of b represents an upper bound on the corresponding value of Aub @ x."
   ]
  },
  {
   "cell_type": "code",
   "execution_count": 3,
   "metadata": {},
   "outputs": [],
   "source": [
    "c = [7, -5]\n",
    "A = [[-2, 1], [10, 3], [-1,-2]]\n",
    "b = [-4, 30, -10]"
   ]
  },
  {
   "cell_type": "markdown",
   "metadata": {},
   "source": [
    "3) specify the bounds on variables. The last constraint specifies the bounds on $x_1$:"
   ]
  },
  {
   "cell_type": "code",
   "execution_count": 4,
   "metadata": {},
   "outputs": [],
   "source": [
    "x1_bounds = (0, None)\n",
    "x2_bounds = (0, None)"
   ]
  },
  {
   "cell_type": "markdown",
   "metadata": {},
   "source": [
    "5) calculate the final results"
   ]
  },
  {
   "cell_type": "code",
   "execution_count": 5,
   "metadata": {},
   "outputs": [
    {
     "name": "stdout",
     "output_type": "stream",
     "text": [
      "     con: array([], dtype=float64)\n",
      "     fun: -5.601138999972573\n",
      " message: 'The algorithm terminated successfully and determined that the problem is infeasible.'\n",
      "     nit: 4\n",
      "   slack: array([-5.10747371, 26.33746972, -7.67876847])\n",
      "  status: 2\n",
      " success: False\n",
      "       x: array([0.02125682, 1.14998735])\n",
      "[0.02125682 1.14998735]\n",
      "-5.601138999972573\n"
     ]
    }
   ],
   "source": [
    "from scipy.optimize import linprog\n",
    "import numpy as np\n",
    "\n",
    "res = linprog(c, A_ub=A, b_ub=b, bounds=[x1_bounds, x2_bounds])\n",
    "print(res)\n",
    "\n",
    "# print the variable\n",
    "print(res.x)\n",
    "\n",
    "# print the objective value\n",
    "print(res.fun)"
   ]
  },
  {
   "cell_type": "markdown",
   "metadata": {},
   "source": [
    "Be careful that the problem is infeasible as shown in the message. So the output point is not the optimal point."
   ]
  }
 ],
 "metadata": {
  "kernelspec": {
   "display_name": "Python 3",
   "language": "python",
   "name": "python3"
  },
  "language_info": {
   "codemirror_mode": {
    "name": "ipython",
    "version": 3
   },
   "file_extension": ".py",
   "mimetype": "text/x-python",
   "name": "python",
   "nbconvert_exporter": "python",
   "pygments_lexer": "ipython3",
   "version": "3.7.4"
  }
 },
 "nbformat": 4,
 "nbformat_minor": 4
}
